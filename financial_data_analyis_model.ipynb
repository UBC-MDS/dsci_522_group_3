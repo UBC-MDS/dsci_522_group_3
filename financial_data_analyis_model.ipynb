{
 "cells": [
  {
   "cell_type": "markdown",
   "id": "ad4b2ed2-3700-4adf-911e-0b3fde72f4f9",
   "metadata": {},
   "source": [
    "# An Application of Logistic Regression in Finanical Data \n",
    "_We utilized logistic regression to analyze the stock price data and provided a predictive model._\n",
    "\n",
    "Data source: Yahoo Finance\n",
    "\n",
    "by Allan Lee, Jianhao Zhang, Yi Yan and Chengyu Tao (DSCI 522 Group 3 Milestone 1)\n",
    "\n",
    "2023/11/17"
   ]
  },
  {
   "cell_type": "code",
   "execution_count": 1,
   "id": "309a7ded-2dc5-416c-988e-4a18c8f5622f",
   "metadata": {},
   "outputs": [],
   "source": [
    "#Imports\n",
    "import numpy as np\n",
    "import pandas as pd\n",
    "\n",
    "from sklearn.model_selection import train_test_split\n",
    "from sklearn.preprocessing import StandardScaler\n",
    "from sklearn.model_selection import cross_validate\n",
    "from sklearn.compose import make_column_transformer\n",
    "from sklearn.pipeline import make_pipeline\n",
    "from sklearn.linear_model import LogisticRegression\n",
    "from sklearn.model_selection import GridSearchCV\n",
    "from sklearn.metrics import ConfusionMatrixDisplay\n",
    "from sklearn.metrics import classification_report\n",
    "import matplotlib.pyplot as plt"
   ]
  },
  {
   "cell_type": "markdown",
   "id": "26031441-d6bb-4a89-a7da-bc7e070e82e1",
   "metadata": {},
   "source": [
    "#### Load and split the data"
   ]
  },
  {
   "cell_type": "code",
   "execution_count": 2,
   "id": "afa6c942-6814-43b5-866c-1496d3f4974d",
   "metadata": {},
   "outputs": [
    {
     "data": {
      "text/html": [
       "<div>\n",
       "<style scoped>\n",
       "    .dataframe tbody tr th:only-of-type {\n",
       "        vertical-align: middle;\n",
       "    }\n",
       "\n",
       "    .dataframe tbody tr th {\n",
       "        vertical-align: top;\n",
       "    }\n",
       "\n",
       "    .dataframe thead th {\n",
       "        text-align: right;\n",
       "    }\n",
       "</style>\n",
       "<table border=\"1\" class=\"dataframe\">\n",
       "  <thead>\n",
       "    <tr style=\"text-align: right;\">\n",
       "      <th></th>\n",
       "      <th>gspc</th>\n",
       "      <th>inflation_rate_pct</th>\n",
       "      <th>interest_rate_pct</th>\n",
       "      <th>inflation_rate_pct_chg</th>\n",
       "      <th>interest_rate_pct_chg</th>\n",
       "      <th>gspc_prev_year_pct_chg</th>\n",
       "      <th>gspc_next_year_pct_chg</th>\n",
       "      <th>target</th>\n",
       "    </tr>\n",
       "    <tr>\n",
       "      <th>date</th>\n",
       "      <th></th>\n",
       "      <th></th>\n",
       "      <th></th>\n",
       "      <th></th>\n",
       "      <th></th>\n",
       "      <th></th>\n",
       "      <th></th>\n",
       "      <th></th>\n",
       "    </tr>\n",
       "  </thead>\n",
       "  <tbody>\n",
       "    <tr>\n",
       "      <th>2013-04-30</th>\n",
       "      <td>1597.569946</td>\n",
       "      <td>1.361965</td>\n",
       "      <td>0.150</td>\n",
       "      <td>-0.342289</td>\n",
       "      <td>0.000</td>\n",
       "      <td>14.282744</td>\n",
       "      <td>17.925976</td>\n",
       "      <td>True</td>\n",
       "    </tr>\n",
       "    <tr>\n",
       "      <th>1982-12-31</th>\n",
       "      <td>140.639999</td>\n",
       "      <td>3.711559</td>\n",
       "      <td>8.830</td>\n",
       "      <td>-4.679246</td>\n",
       "      <td>-3.470</td>\n",
       "      <td>14.761319</td>\n",
       "      <td>17.271042</td>\n",
       "      <td>True</td>\n",
       "    </tr>\n",
       "    <tr>\n",
       "      <th>1968-01-31</th>\n",
       "      <td>92.239998</td>\n",
       "      <td>3.951368</td>\n",
       "      <td>4.630</td>\n",
       "      <td>1.138868</td>\n",
       "      <td>-0.370</td>\n",
       "      <td>6.500401</td>\n",
       "      <td>11.676067</td>\n",
       "      <td>True</td>\n",
       "    </tr>\n",
       "    <tr>\n",
       "      <th>2005-04-30</th>\n",
       "      <td>1156.849976</td>\n",
       "      <td>2.802750</td>\n",
       "      <td>2.765</td>\n",
       "      <td>-0.249021</td>\n",
       "      <td>1.765</td>\n",
       "      <td>4.474842</td>\n",
       "      <td>13.291266</td>\n",
       "      <td>True</td>\n",
       "    </tr>\n",
       "    <tr>\n",
       "      <th>1986-02-28</th>\n",
       "      <td>226.919998</td>\n",
       "      <td>2.255639</td>\n",
       "      <td>7.830</td>\n",
       "      <td>-1.448065</td>\n",
       "      <td>-0.695</td>\n",
       "      <td>25.245616</td>\n",
       "      <td>25.242383</td>\n",
       "      <td>True</td>\n",
       "    </tr>\n",
       "    <tr>\n",
       "      <th>...</th>\n",
       "      <td>...</td>\n",
       "      <td>...</td>\n",
       "      <td>...</td>\n",
       "      <td>...</td>\n",
       "      <td>...</td>\n",
       "      <td>...</td>\n",
       "      <td>...</td>\n",
       "      <td>...</td>\n",
       "    </tr>\n",
       "    <tr>\n",
       "      <th>1963-09-30</th>\n",
       "      <td>71.699997</td>\n",
       "      <td>1.315789</td>\n",
       "      <td>3.500</td>\n",
       "      <td>-0.017544</td>\n",
       "      <td>0.500</td>\n",
       "      <td>27.421355</td>\n",
       "      <td>17.405863</td>\n",
       "      <td>True</td>\n",
       "    </tr>\n",
       "    <tr>\n",
       "      <th>1982-05-31</th>\n",
       "      <td>111.879997</td>\n",
       "      <td>7.064018</td>\n",
       "      <td>14.590</td>\n",
       "      <td>-2.488582</td>\n",
       "      <td>-3.900</td>\n",
       "      <td>-15.619579</td>\n",
       "      <td>45.146589</td>\n",
       "      <td>True</td>\n",
       "    </tr>\n",
       "    <tr>\n",
       "      <th>1987-05-31</th>\n",
       "      <td>290.100006</td>\n",
       "      <td>3.652968</td>\n",
       "      <td>6.750</td>\n",
       "      <td>1.887169</td>\n",
       "      <td>-0.090</td>\n",
       "      <td>17.283202</td>\n",
       "      <td>-9.631162</td>\n",
       "      <td>False</td>\n",
       "    </tr>\n",
       "    <tr>\n",
       "      <th>1985-12-31</th>\n",
       "      <td>211.279999</td>\n",
       "      <td>3.886256</td>\n",
       "      <td>7.990</td>\n",
       "      <td>0.353381</td>\n",
       "      <td>-0.520</td>\n",
       "      <td>26.333408</td>\n",
       "      <td>14.620409</td>\n",
       "      <td>True</td>\n",
       "    </tr>\n",
       "    <tr>\n",
       "      <th>1998-01-31</th>\n",
       "      <td>980.280029</td>\n",
       "      <td>1.441103</td>\n",
       "      <td>5.510</td>\n",
       "      <td>-1.593113</td>\n",
       "      <td>0.310</td>\n",
       "      <td>24.692183</td>\n",
       "      <td>30.538211</td>\n",
       "      <td>True</td>\n",
       "    </tr>\n",
       "  </tbody>\n",
       "</table>\n",
       "<p>646 rows × 8 columns</p>\n",
       "</div>"
      ],
      "text/plain": [
       "                   gspc  inflation_rate_pct  interest_rate_pct  \\\n",
       "date                                                             \n",
       "2013-04-30  1597.569946            1.361965              0.150   \n",
       "1982-12-31   140.639999            3.711559              8.830   \n",
       "1968-01-31    92.239998            3.951368              4.630   \n",
       "2005-04-30  1156.849976            2.802750              2.765   \n",
       "1986-02-28   226.919998            2.255639              7.830   \n",
       "...                 ...                 ...                ...   \n",
       "1963-09-30    71.699997            1.315789              3.500   \n",
       "1982-05-31   111.879997            7.064018             14.590   \n",
       "1987-05-31   290.100006            3.652968              6.750   \n",
       "1985-12-31   211.279999            3.886256              7.990   \n",
       "1998-01-31   980.280029            1.441103              5.510   \n",
       "\n",
       "            inflation_rate_pct_chg  interest_rate_pct_chg  \\\n",
       "date                                                        \n",
       "2013-04-30               -0.342289                  0.000   \n",
       "1982-12-31               -4.679246                 -3.470   \n",
       "1968-01-31                1.138868                 -0.370   \n",
       "2005-04-30               -0.249021                  1.765   \n",
       "1986-02-28               -1.448065                 -0.695   \n",
       "...                            ...                    ...   \n",
       "1963-09-30               -0.017544                  0.500   \n",
       "1982-05-31               -2.488582                 -3.900   \n",
       "1987-05-31                1.887169                 -0.090   \n",
       "1985-12-31                0.353381                 -0.520   \n",
       "1998-01-31               -1.593113                  0.310   \n",
       "\n",
       "            gspc_prev_year_pct_chg  gspc_next_year_pct_chg  target  \n",
       "date                                                                \n",
       "2013-04-30               14.282744               17.925976    True  \n",
       "1982-12-31               14.761319               17.271042    True  \n",
       "1968-01-31                6.500401               11.676067    True  \n",
       "2005-04-30                4.474842               13.291266    True  \n",
       "1986-02-28               25.245616               25.242383    True  \n",
       "...                            ...                     ...     ...  \n",
       "1963-09-30               27.421355               17.405863    True  \n",
       "1982-05-31              -15.619579               45.146589    True  \n",
       "1987-05-31               17.283202               -9.631162   False  \n",
       "1985-12-31               26.333408               14.620409    True  \n",
       "1998-01-31               24.692183               30.538211    True  \n",
       "\n",
       "[646 rows x 8 columns]"
      ]
     },
     "execution_count": 2,
     "metadata": {},
     "output_type": "execute_result"
    }
   ],
   "source": [
    "#import data and split into train and test\n",
    "df = pd.read_csv(\"Data/Processed/data.csv\", index_col=0)\n",
    "\n",
    "train_df, test_df = train_test_split(df, test_size=0.2, random_state=123)\n",
    "train_df"
   ]
  },
  {
   "cell_type": "code",
   "execution_count": 3,
   "id": "031fac94-39a1-4435-a39e-30c80fdff430",
   "metadata": {},
   "outputs": [],
   "source": [
    "#Separate target value form train and test set \n",
    "X_train = train_df[['inflation_rate_pct', 'interest_rate_pct',\n",
    "       'inflation_rate_pct_chg', 'interest_rate_pct_chg',\n",
    "       'gspc_prev_year_pct_chg']]\n",
    "y_train = train_df[\"target\"]\n",
    "\n",
    "X_test = test_df[['inflation_rate_pct', 'interest_rate_pct',\n",
    "       'inflation_rate_pct_chg', 'interest_rate_pct_chg',\n",
    "       'gspc_prev_year_pct_chg']]\n",
    "y_test = test_df[\"target\"]"
   ]
  },
  {
   "cell_type": "code",
   "execution_count": 4,
   "metadata": {},
   "outputs": [
    {
     "data": {
      "text/html": [
       "<div>\n",
       "<style scoped>\n",
       "    .dataframe tbody tr th:only-of-type {\n",
       "        vertical-align: middle;\n",
       "    }\n",
       "\n",
       "    .dataframe tbody tr th {\n",
       "        vertical-align: top;\n",
       "    }\n",
       "\n",
       "    .dataframe thead th {\n",
       "        text-align: right;\n",
       "    }\n",
       "</style>\n",
       "<table border=\"1\" class=\"dataframe\">\n",
       "  <thead>\n",
       "    <tr style=\"text-align: right;\">\n",
       "      <th></th>\n",
       "      <th>inflation_rate_pct</th>\n",
       "      <th>interest_rate_pct</th>\n",
       "      <th>inflation_rate_pct_chg</th>\n",
       "      <th>interest_rate_pct_chg</th>\n",
       "      <th>gspc_prev_year_pct_chg</th>\n",
       "    </tr>\n",
       "    <tr>\n",
       "      <th>date</th>\n",
       "      <th></th>\n",
       "      <th></th>\n",
       "      <th></th>\n",
       "      <th></th>\n",
       "      <th></th>\n",
       "    </tr>\n",
       "  </thead>\n",
       "  <tbody>\n",
       "    <tr>\n",
       "      <th>2013-04-30</th>\n",
       "      <td>1.361965</td>\n",
       "      <td>0.150</td>\n",
       "      <td>-0.342289</td>\n",
       "      <td>0.000</td>\n",
       "      <td>14.282744</td>\n",
       "    </tr>\n",
       "    <tr>\n",
       "      <th>1982-12-31</th>\n",
       "      <td>3.711559</td>\n",
       "      <td>8.830</td>\n",
       "      <td>-4.679246</td>\n",
       "      <td>-3.470</td>\n",
       "      <td>14.761319</td>\n",
       "    </tr>\n",
       "    <tr>\n",
       "      <th>1968-01-31</th>\n",
       "      <td>3.951368</td>\n",
       "      <td>4.630</td>\n",
       "      <td>1.138868</td>\n",
       "      <td>-0.370</td>\n",
       "      <td>6.500401</td>\n",
       "    </tr>\n",
       "    <tr>\n",
       "      <th>2005-04-30</th>\n",
       "      <td>2.802750</td>\n",
       "      <td>2.765</td>\n",
       "      <td>-0.249021</td>\n",
       "      <td>1.765</td>\n",
       "      <td>4.474842</td>\n",
       "    </tr>\n",
       "    <tr>\n",
       "      <th>1986-02-28</th>\n",
       "      <td>2.255639</td>\n",
       "      <td>7.830</td>\n",
       "      <td>-1.448065</td>\n",
       "      <td>-0.695</td>\n",
       "      <td>25.245616</td>\n",
       "    </tr>\n",
       "  </tbody>\n",
       "</table>\n",
       "</div>"
      ],
      "text/plain": [
       "            inflation_rate_pct  interest_rate_pct  inflation_rate_pct_chg  \\\n",
       "date                                                                        \n",
       "2013-04-30            1.361965              0.150               -0.342289   \n",
       "1982-12-31            3.711559              8.830               -4.679246   \n",
       "1968-01-31            3.951368              4.630                1.138868   \n",
       "2005-04-30            2.802750              2.765               -0.249021   \n",
       "1986-02-28            2.255639              7.830               -1.448065   \n",
       "\n",
       "            interest_rate_pct_chg  gspc_prev_year_pct_chg  \n",
       "date                                                       \n",
       "2013-04-30                  0.000               14.282744  \n",
       "1982-12-31                 -3.470               14.761319  \n",
       "1968-01-31                 -0.370                6.500401  \n",
       "2005-04-30                  1.765                4.474842  \n",
       "1986-02-28                 -0.695               25.245616  "
      ]
     },
     "execution_count": 4,
     "metadata": {},
     "output_type": "execute_result"
    }
   ],
   "source": [
    "X_train.head(5)"
   ]
  },
  {
   "cell_type": "code",
   "execution_count": 5,
   "metadata": {},
   "outputs": [
    {
     "data": {
      "text/plain": [
       "date\n",
       "2013-04-30    True\n",
       "1982-12-31    True\n",
       "1968-01-31    True\n",
       "2005-04-30    True\n",
       "1986-02-28    True\n",
       "Name: target, dtype: bool"
      ]
     },
     "execution_count": 5,
     "metadata": {},
     "output_type": "execute_result"
    }
   ],
   "source": [
    "y_train.head(5)"
   ]
  },
  {
   "cell_type": "markdown",
   "id": "db5aafbd-c29f-45c5-a8c6-702c58f10d21",
   "metadata": {},
   "source": [
    "#### Data\n",
    "The dataset comprises records for 808 months, with each row featuring a crucial predictor for the corresponding month. Additionally, it indicates whether there was an increase or decrease in the S&P 500 index, denoted by the values True or False.\n"
   ]
  },
  {
   "cell_type": "markdown",
   "id": "75cef766-c7e9-4983-899a-2c56d2fb53aa",
   "metadata": {},
   "source": [
    "#### Preprocessing Data\n",
    "\n",
    "##### Numeric features:\n",
    "- 'inflation_rate_pct'\n",
    "- 'interest_rate_pct'\n",
    "- 'inflation_rate_pct_chg'\n",
    "- 'interest_rate_pct_chg'\n",
    "- 'gspc_prev_year_pct_chg'\n",
    "\n",
    "Since there is no missing values, imputation is not necessary. And we apply a StandardScaler."
   ]
  },
  {
   "cell_type": "code",
   "execution_count": 6,
   "id": "b7204bfd-54e4-469c-a3a4-f37708c47068",
   "metadata": {},
   "outputs": [],
   "source": [
    "numerical_features = ['inflation_rate_pct', 'interest_rate_pct',\n",
    "       'inflation_rate_pct_chg', 'interest_rate_pct_chg',\n",
    "       'gspc_prev_year_pct_chg']\n",
    "\n",
    "#Create Column Transformer \n",
    "preprocessor = make_column_transformer(    \n",
    "    (StandardScaler(), numerical_features),  \n",
    ")"
   ]
  },
  {
   "cell_type": "code",
   "execution_count": 7,
   "metadata": {},
   "outputs": [
    {
     "data": {
      "text/html": [
       "<style>#sk-container-id-1 {color: black;}#sk-container-id-1 pre{padding: 0;}#sk-container-id-1 div.sk-toggleable {background-color: white;}#sk-container-id-1 label.sk-toggleable__label {cursor: pointer;display: block;width: 100%;margin-bottom: 0;padding: 0.3em;box-sizing: border-box;text-align: center;}#sk-container-id-1 label.sk-toggleable__label-arrow:before {content: \"▸\";float: left;margin-right: 0.25em;color: #696969;}#sk-container-id-1 label.sk-toggleable__label-arrow:hover:before {color: black;}#sk-container-id-1 div.sk-estimator:hover label.sk-toggleable__label-arrow:before {color: black;}#sk-container-id-1 div.sk-toggleable__content {max-height: 0;max-width: 0;overflow: hidden;text-align: left;background-color: #f0f8ff;}#sk-container-id-1 div.sk-toggleable__content pre {margin: 0.2em;color: black;border-radius: 0.25em;background-color: #f0f8ff;}#sk-container-id-1 input.sk-toggleable__control:checked~div.sk-toggleable__content {max-height: 200px;max-width: 100%;overflow: auto;}#sk-container-id-1 input.sk-toggleable__control:checked~label.sk-toggleable__label-arrow:before {content: \"▾\";}#sk-container-id-1 div.sk-estimator input.sk-toggleable__control:checked~label.sk-toggleable__label {background-color: #d4ebff;}#sk-container-id-1 div.sk-label input.sk-toggleable__control:checked~label.sk-toggleable__label {background-color: #d4ebff;}#sk-container-id-1 input.sk-hidden--visually {border: 0;clip: rect(1px 1px 1px 1px);clip: rect(1px, 1px, 1px, 1px);height: 1px;margin: -1px;overflow: hidden;padding: 0;position: absolute;width: 1px;}#sk-container-id-1 div.sk-estimator {font-family: monospace;background-color: #f0f8ff;border: 1px dotted black;border-radius: 0.25em;box-sizing: border-box;margin-bottom: 0.5em;}#sk-container-id-1 div.sk-estimator:hover {background-color: #d4ebff;}#sk-container-id-1 div.sk-parallel-item::after {content: \"\";width: 100%;border-bottom: 1px solid gray;flex-grow: 1;}#sk-container-id-1 div.sk-label:hover label.sk-toggleable__label {background-color: #d4ebff;}#sk-container-id-1 div.sk-serial::before {content: \"\";position: absolute;border-left: 1px solid gray;box-sizing: border-box;top: 0;bottom: 0;left: 50%;z-index: 0;}#sk-container-id-1 div.sk-serial {display: flex;flex-direction: column;align-items: center;background-color: white;padding-right: 0.2em;padding-left: 0.2em;position: relative;}#sk-container-id-1 div.sk-item {position: relative;z-index: 1;}#sk-container-id-1 div.sk-parallel {display: flex;align-items: stretch;justify-content: center;background-color: white;position: relative;}#sk-container-id-1 div.sk-item::before, #sk-container-id-1 div.sk-parallel-item::before {content: \"\";position: absolute;border-left: 1px solid gray;box-sizing: border-box;top: 0;bottom: 0;left: 50%;z-index: -1;}#sk-container-id-1 div.sk-parallel-item {display: flex;flex-direction: column;z-index: 1;position: relative;background-color: white;}#sk-container-id-1 div.sk-parallel-item:first-child::after {align-self: flex-end;width: 50%;}#sk-container-id-1 div.sk-parallel-item:last-child::after {align-self: flex-start;width: 50%;}#sk-container-id-1 div.sk-parallel-item:only-child::after {width: 0;}#sk-container-id-1 div.sk-dashed-wrapped {border: 1px dashed gray;margin: 0 0.4em 0.5em 0.4em;box-sizing: border-box;padding-bottom: 0.4em;background-color: white;}#sk-container-id-1 div.sk-label label {font-family: monospace;font-weight: bold;display: inline-block;line-height: 1.2em;}#sk-container-id-1 div.sk-label-container {text-align: center;}#sk-container-id-1 div.sk-container {/* jupyter's `normalize.less` sets `[hidden] { display: none; }` but bootstrap.min.css set `[hidden] { display: none !important; }` so we also need the `!important` here to be able to override the default hidden behavior on the sphinx rendered scikit-learn.org. See: https://github.com/scikit-learn/scikit-learn/issues/21755 */display: inline-block !important;position: relative;}#sk-container-id-1 div.sk-text-repr-fallback {display: none;}</style><div id=\"sk-container-id-1\" class=\"sk-top-container\"><div class=\"sk-text-repr-fallback\"><pre>ColumnTransformer(transformers=[(&#x27;standardscaler&#x27;, StandardScaler(),\n",
       "                                 [&#x27;inflation_rate_pct&#x27;, &#x27;interest_rate_pct&#x27;,\n",
       "                                  &#x27;inflation_rate_pct_chg&#x27;,\n",
       "                                  &#x27;interest_rate_pct_chg&#x27;,\n",
       "                                  &#x27;gspc_prev_year_pct_chg&#x27;])])</pre><b>In a Jupyter environment, please rerun this cell to show the HTML representation or trust the notebook. <br />On GitHub, the HTML representation is unable to render, please try loading this page with nbviewer.org.</b></div><div class=\"sk-container\" hidden><div class=\"sk-item sk-dashed-wrapped\"><div class=\"sk-label-container\"><div class=\"sk-label sk-toggleable\"><input class=\"sk-toggleable__control sk-hidden--visually\" id=\"sk-estimator-id-1\" type=\"checkbox\" ><label for=\"sk-estimator-id-1\" class=\"sk-toggleable__label sk-toggleable__label-arrow\">ColumnTransformer</label><div class=\"sk-toggleable__content\"><pre>ColumnTransformer(transformers=[(&#x27;standardscaler&#x27;, StandardScaler(),\n",
       "                                 [&#x27;inflation_rate_pct&#x27;, &#x27;interest_rate_pct&#x27;,\n",
       "                                  &#x27;inflation_rate_pct_chg&#x27;,\n",
       "                                  &#x27;interest_rate_pct_chg&#x27;,\n",
       "                                  &#x27;gspc_prev_year_pct_chg&#x27;])])</pre></div></div></div><div class=\"sk-parallel\"><div class=\"sk-parallel-item\"><div class=\"sk-item\"><div class=\"sk-label-container\"><div class=\"sk-label sk-toggleable\"><input class=\"sk-toggleable__control sk-hidden--visually\" id=\"sk-estimator-id-2\" type=\"checkbox\" ><label for=\"sk-estimator-id-2\" class=\"sk-toggleable__label sk-toggleable__label-arrow\">standardscaler</label><div class=\"sk-toggleable__content\"><pre>[&#x27;inflation_rate_pct&#x27;, &#x27;interest_rate_pct&#x27;, &#x27;inflation_rate_pct_chg&#x27;, &#x27;interest_rate_pct_chg&#x27;, &#x27;gspc_prev_year_pct_chg&#x27;]</pre></div></div></div><div class=\"sk-serial\"><div class=\"sk-item\"><div class=\"sk-estimator sk-toggleable\"><input class=\"sk-toggleable__control sk-hidden--visually\" id=\"sk-estimator-id-3\" type=\"checkbox\" ><label for=\"sk-estimator-id-3\" class=\"sk-toggleable__label sk-toggleable__label-arrow\">StandardScaler</label><div class=\"sk-toggleable__content\"><pre>StandardScaler()</pre></div></div></div></div></div></div></div></div></div></div>"
      ],
      "text/plain": [
       "ColumnTransformer(transformers=[('standardscaler', StandardScaler(),\n",
       "                                 ['inflation_rate_pct', 'interest_rate_pct',\n",
       "                                  'inflation_rate_pct_chg',\n",
       "                                  'interest_rate_pct_chg',\n",
       "                                  'gspc_prev_year_pct_chg'])])"
      ]
     },
     "execution_count": 7,
     "metadata": {},
     "output_type": "execute_result"
    }
   ],
   "source": [
    "preprocessor"
   ]
  },
  {
   "cell_type": "markdown",
   "id": "7c5f2860-b44e-44f7-8d5b-3a6424417bab",
   "metadata": {},
   "source": [
    "#### Model Selection\n",
    "##### Logistic Regression\n",
    "Our focus is on identifying whether there is an increase in the S&P 500 index, making it a classification problem. To tackle this, we utilize Logistic Regression."
   ]
  },
  {
   "cell_type": "code",
   "execution_count": 8,
   "id": "296c9473-4a00-4a4c-9439-309559715fd9",
   "metadata": {},
   "outputs": [],
   "source": [
    "pipe = make_pipeline(preprocessor, LogisticRegression())"
   ]
  },
  {
   "cell_type": "code",
   "execution_count": 9,
   "metadata": {},
   "outputs": [
    {
     "data": {
      "text/html": [
       "<style>#sk-container-id-2 {color: black;}#sk-container-id-2 pre{padding: 0;}#sk-container-id-2 div.sk-toggleable {background-color: white;}#sk-container-id-2 label.sk-toggleable__label {cursor: pointer;display: block;width: 100%;margin-bottom: 0;padding: 0.3em;box-sizing: border-box;text-align: center;}#sk-container-id-2 label.sk-toggleable__label-arrow:before {content: \"▸\";float: left;margin-right: 0.25em;color: #696969;}#sk-container-id-2 label.sk-toggleable__label-arrow:hover:before {color: black;}#sk-container-id-2 div.sk-estimator:hover label.sk-toggleable__label-arrow:before {color: black;}#sk-container-id-2 div.sk-toggleable__content {max-height: 0;max-width: 0;overflow: hidden;text-align: left;background-color: #f0f8ff;}#sk-container-id-2 div.sk-toggleable__content pre {margin: 0.2em;color: black;border-radius: 0.25em;background-color: #f0f8ff;}#sk-container-id-2 input.sk-toggleable__control:checked~div.sk-toggleable__content {max-height: 200px;max-width: 100%;overflow: auto;}#sk-container-id-2 input.sk-toggleable__control:checked~label.sk-toggleable__label-arrow:before {content: \"▾\";}#sk-container-id-2 div.sk-estimator input.sk-toggleable__control:checked~label.sk-toggleable__label {background-color: #d4ebff;}#sk-container-id-2 div.sk-label input.sk-toggleable__control:checked~label.sk-toggleable__label {background-color: #d4ebff;}#sk-container-id-2 input.sk-hidden--visually {border: 0;clip: rect(1px 1px 1px 1px);clip: rect(1px, 1px, 1px, 1px);height: 1px;margin: -1px;overflow: hidden;padding: 0;position: absolute;width: 1px;}#sk-container-id-2 div.sk-estimator {font-family: monospace;background-color: #f0f8ff;border: 1px dotted black;border-radius: 0.25em;box-sizing: border-box;margin-bottom: 0.5em;}#sk-container-id-2 div.sk-estimator:hover {background-color: #d4ebff;}#sk-container-id-2 div.sk-parallel-item::after {content: \"\";width: 100%;border-bottom: 1px solid gray;flex-grow: 1;}#sk-container-id-2 div.sk-label:hover label.sk-toggleable__label {background-color: #d4ebff;}#sk-container-id-2 div.sk-serial::before {content: \"\";position: absolute;border-left: 1px solid gray;box-sizing: border-box;top: 0;bottom: 0;left: 50%;z-index: 0;}#sk-container-id-2 div.sk-serial {display: flex;flex-direction: column;align-items: center;background-color: white;padding-right: 0.2em;padding-left: 0.2em;position: relative;}#sk-container-id-2 div.sk-item {position: relative;z-index: 1;}#sk-container-id-2 div.sk-parallel {display: flex;align-items: stretch;justify-content: center;background-color: white;position: relative;}#sk-container-id-2 div.sk-item::before, #sk-container-id-2 div.sk-parallel-item::before {content: \"\";position: absolute;border-left: 1px solid gray;box-sizing: border-box;top: 0;bottom: 0;left: 50%;z-index: -1;}#sk-container-id-2 div.sk-parallel-item {display: flex;flex-direction: column;z-index: 1;position: relative;background-color: white;}#sk-container-id-2 div.sk-parallel-item:first-child::after {align-self: flex-end;width: 50%;}#sk-container-id-2 div.sk-parallel-item:last-child::after {align-self: flex-start;width: 50%;}#sk-container-id-2 div.sk-parallel-item:only-child::after {width: 0;}#sk-container-id-2 div.sk-dashed-wrapped {border: 1px dashed gray;margin: 0 0.4em 0.5em 0.4em;box-sizing: border-box;padding-bottom: 0.4em;background-color: white;}#sk-container-id-2 div.sk-label label {font-family: monospace;font-weight: bold;display: inline-block;line-height: 1.2em;}#sk-container-id-2 div.sk-label-container {text-align: center;}#sk-container-id-2 div.sk-container {/* jupyter's `normalize.less` sets `[hidden] { display: none; }` but bootstrap.min.css set `[hidden] { display: none !important; }` so we also need the `!important` here to be able to override the default hidden behavior on the sphinx rendered scikit-learn.org. See: https://github.com/scikit-learn/scikit-learn/issues/21755 */display: inline-block !important;position: relative;}#sk-container-id-2 div.sk-text-repr-fallback {display: none;}</style><div id=\"sk-container-id-2\" class=\"sk-top-container\"><div class=\"sk-text-repr-fallback\"><pre>Pipeline(steps=[(&#x27;columntransformer&#x27;,\n",
       "                 ColumnTransformer(transformers=[(&#x27;standardscaler&#x27;,\n",
       "                                                  StandardScaler(),\n",
       "                                                  [&#x27;inflation_rate_pct&#x27;,\n",
       "                                                   &#x27;interest_rate_pct&#x27;,\n",
       "                                                   &#x27;inflation_rate_pct_chg&#x27;,\n",
       "                                                   &#x27;interest_rate_pct_chg&#x27;,\n",
       "                                                   &#x27;gspc_prev_year_pct_chg&#x27;])])),\n",
       "                (&#x27;logisticregression&#x27;, LogisticRegression())])</pre><b>In a Jupyter environment, please rerun this cell to show the HTML representation or trust the notebook. <br />On GitHub, the HTML representation is unable to render, please try loading this page with nbviewer.org.</b></div><div class=\"sk-container\" hidden><div class=\"sk-item sk-dashed-wrapped\"><div class=\"sk-label-container\"><div class=\"sk-label sk-toggleable\"><input class=\"sk-toggleable__control sk-hidden--visually\" id=\"sk-estimator-id-4\" type=\"checkbox\" ><label for=\"sk-estimator-id-4\" class=\"sk-toggleable__label sk-toggleable__label-arrow\">Pipeline</label><div class=\"sk-toggleable__content\"><pre>Pipeline(steps=[(&#x27;columntransformer&#x27;,\n",
       "                 ColumnTransformer(transformers=[(&#x27;standardscaler&#x27;,\n",
       "                                                  StandardScaler(),\n",
       "                                                  [&#x27;inflation_rate_pct&#x27;,\n",
       "                                                   &#x27;interest_rate_pct&#x27;,\n",
       "                                                   &#x27;inflation_rate_pct_chg&#x27;,\n",
       "                                                   &#x27;interest_rate_pct_chg&#x27;,\n",
       "                                                   &#x27;gspc_prev_year_pct_chg&#x27;])])),\n",
       "                (&#x27;logisticregression&#x27;, LogisticRegression())])</pre></div></div></div><div class=\"sk-serial\"><div class=\"sk-item sk-dashed-wrapped\"><div class=\"sk-label-container\"><div class=\"sk-label sk-toggleable\"><input class=\"sk-toggleable__control sk-hidden--visually\" id=\"sk-estimator-id-5\" type=\"checkbox\" ><label for=\"sk-estimator-id-5\" class=\"sk-toggleable__label sk-toggleable__label-arrow\">columntransformer: ColumnTransformer</label><div class=\"sk-toggleable__content\"><pre>ColumnTransformer(transformers=[(&#x27;standardscaler&#x27;, StandardScaler(),\n",
       "                                 [&#x27;inflation_rate_pct&#x27;, &#x27;interest_rate_pct&#x27;,\n",
       "                                  &#x27;inflation_rate_pct_chg&#x27;,\n",
       "                                  &#x27;interest_rate_pct_chg&#x27;,\n",
       "                                  &#x27;gspc_prev_year_pct_chg&#x27;])])</pre></div></div></div><div class=\"sk-parallel\"><div class=\"sk-parallel-item\"><div class=\"sk-item\"><div class=\"sk-label-container\"><div class=\"sk-label sk-toggleable\"><input class=\"sk-toggleable__control sk-hidden--visually\" id=\"sk-estimator-id-6\" type=\"checkbox\" ><label for=\"sk-estimator-id-6\" class=\"sk-toggleable__label sk-toggleable__label-arrow\">standardscaler</label><div class=\"sk-toggleable__content\"><pre>[&#x27;inflation_rate_pct&#x27;, &#x27;interest_rate_pct&#x27;, &#x27;inflation_rate_pct_chg&#x27;, &#x27;interest_rate_pct_chg&#x27;, &#x27;gspc_prev_year_pct_chg&#x27;]</pre></div></div></div><div class=\"sk-serial\"><div class=\"sk-item\"><div class=\"sk-estimator sk-toggleable\"><input class=\"sk-toggleable__control sk-hidden--visually\" id=\"sk-estimator-id-7\" type=\"checkbox\" ><label for=\"sk-estimator-id-7\" class=\"sk-toggleable__label sk-toggleable__label-arrow\">StandardScaler</label><div class=\"sk-toggleable__content\"><pre>StandardScaler()</pre></div></div></div></div></div></div></div></div><div class=\"sk-item\"><div class=\"sk-estimator sk-toggleable\"><input class=\"sk-toggleable__control sk-hidden--visually\" id=\"sk-estimator-id-8\" type=\"checkbox\" ><label for=\"sk-estimator-id-8\" class=\"sk-toggleable__label sk-toggleable__label-arrow\">LogisticRegression</label><div class=\"sk-toggleable__content\"><pre>LogisticRegression()</pre></div></div></div></div></div></div></div>"
      ],
      "text/plain": [
       "Pipeline(steps=[('columntransformer',\n",
       "                 ColumnTransformer(transformers=[('standardscaler',\n",
       "                                                  StandardScaler(),\n",
       "                                                  ['inflation_rate_pct',\n",
       "                                                   'interest_rate_pct',\n",
       "                                                   'inflation_rate_pct_chg',\n",
       "                                                   'interest_rate_pct_chg',\n",
       "                                                   'gspc_prev_year_pct_chg'])])),\n",
       "                ('logisticregression', LogisticRegression())])"
      ]
     },
     "execution_count": 9,
     "metadata": {},
     "output_type": "execute_result"
    }
   ],
   "source": [
    "pipe"
   ]
  },
  {
   "cell_type": "markdown",
   "id": "6bce6411-0b01-4541-916e-8c759f785427",
   "metadata": {},
   "source": [
    "##### Applying on test data"
   ]
  },
  {
   "cell_type": "code",
   "execution_count": 10,
   "metadata": {},
   "outputs": [
    {
     "data": {
      "text/html": [
       "<style>#sk-container-id-3 {color: black;}#sk-container-id-3 pre{padding: 0;}#sk-container-id-3 div.sk-toggleable {background-color: white;}#sk-container-id-3 label.sk-toggleable__label {cursor: pointer;display: block;width: 100%;margin-bottom: 0;padding: 0.3em;box-sizing: border-box;text-align: center;}#sk-container-id-3 label.sk-toggleable__label-arrow:before {content: \"▸\";float: left;margin-right: 0.25em;color: #696969;}#sk-container-id-3 label.sk-toggleable__label-arrow:hover:before {color: black;}#sk-container-id-3 div.sk-estimator:hover label.sk-toggleable__label-arrow:before {color: black;}#sk-container-id-3 div.sk-toggleable__content {max-height: 0;max-width: 0;overflow: hidden;text-align: left;background-color: #f0f8ff;}#sk-container-id-3 div.sk-toggleable__content pre {margin: 0.2em;color: black;border-radius: 0.25em;background-color: #f0f8ff;}#sk-container-id-3 input.sk-toggleable__control:checked~div.sk-toggleable__content {max-height: 200px;max-width: 100%;overflow: auto;}#sk-container-id-3 input.sk-toggleable__control:checked~label.sk-toggleable__label-arrow:before {content: \"▾\";}#sk-container-id-3 div.sk-estimator input.sk-toggleable__control:checked~label.sk-toggleable__label {background-color: #d4ebff;}#sk-container-id-3 div.sk-label input.sk-toggleable__control:checked~label.sk-toggleable__label {background-color: #d4ebff;}#sk-container-id-3 input.sk-hidden--visually {border: 0;clip: rect(1px 1px 1px 1px);clip: rect(1px, 1px, 1px, 1px);height: 1px;margin: -1px;overflow: hidden;padding: 0;position: absolute;width: 1px;}#sk-container-id-3 div.sk-estimator {font-family: monospace;background-color: #f0f8ff;border: 1px dotted black;border-radius: 0.25em;box-sizing: border-box;margin-bottom: 0.5em;}#sk-container-id-3 div.sk-estimator:hover {background-color: #d4ebff;}#sk-container-id-3 div.sk-parallel-item::after {content: \"\";width: 100%;border-bottom: 1px solid gray;flex-grow: 1;}#sk-container-id-3 div.sk-label:hover label.sk-toggleable__label {background-color: #d4ebff;}#sk-container-id-3 div.sk-serial::before {content: \"\";position: absolute;border-left: 1px solid gray;box-sizing: border-box;top: 0;bottom: 0;left: 50%;z-index: 0;}#sk-container-id-3 div.sk-serial {display: flex;flex-direction: column;align-items: center;background-color: white;padding-right: 0.2em;padding-left: 0.2em;position: relative;}#sk-container-id-3 div.sk-item {position: relative;z-index: 1;}#sk-container-id-3 div.sk-parallel {display: flex;align-items: stretch;justify-content: center;background-color: white;position: relative;}#sk-container-id-3 div.sk-item::before, #sk-container-id-3 div.sk-parallel-item::before {content: \"\";position: absolute;border-left: 1px solid gray;box-sizing: border-box;top: 0;bottom: 0;left: 50%;z-index: -1;}#sk-container-id-3 div.sk-parallel-item {display: flex;flex-direction: column;z-index: 1;position: relative;background-color: white;}#sk-container-id-3 div.sk-parallel-item:first-child::after {align-self: flex-end;width: 50%;}#sk-container-id-3 div.sk-parallel-item:last-child::after {align-self: flex-start;width: 50%;}#sk-container-id-3 div.sk-parallel-item:only-child::after {width: 0;}#sk-container-id-3 div.sk-dashed-wrapped {border: 1px dashed gray;margin: 0 0.4em 0.5em 0.4em;box-sizing: border-box;padding-bottom: 0.4em;background-color: white;}#sk-container-id-3 div.sk-label label {font-family: monospace;font-weight: bold;display: inline-block;line-height: 1.2em;}#sk-container-id-3 div.sk-label-container {text-align: center;}#sk-container-id-3 div.sk-container {/* jupyter's `normalize.less` sets `[hidden] { display: none; }` but bootstrap.min.css set `[hidden] { display: none !important; }` so we also need the `!important` here to be able to override the default hidden behavior on the sphinx rendered scikit-learn.org. See: https://github.com/scikit-learn/scikit-learn/issues/21755 */display: inline-block !important;position: relative;}#sk-container-id-3 div.sk-text-repr-fallback {display: none;}</style><div id=\"sk-container-id-3\" class=\"sk-top-container\"><div class=\"sk-text-repr-fallback\"><pre>Pipeline(steps=[(&#x27;columntransformer&#x27;,\n",
       "                 ColumnTransformer(transformers=[(&#x27;standardscaler&#x27;,\n",
       "                                                  StandardScaler(),\n",
       "                                                  [&#x27;inflation_rate_pct&#x27;,\n",
       "                                                   &#x27;interest_rate_pct&#x27;,\n",
       "                                                   &#x27;inflation_rate_pct_chg&#x27;,\n",
       "                                                   &#x27;interest_rate_pct_chg&#x27;,\n",
       "                                                   &#x27;gspc_prev_year_pct_chg&#x27;])])),\n",
       "                (&#x27;logisticregression&#x27;, LogisticRegression())])</pre><b>In a Jupyter environment, please rerun this cell to show the HTML representation or trust the notebook. <br />On GitHub, the HTML representation is unable to render, please try loading this page with nbviewer.org.</b></div><div class=\"sk-container\" hidden><div class=\"sk-item sk-dashed-wrapped\"><div class=\"sk-label-container\"><div class=\"sk-label sk-toggleable\"><input class=\"sk-toggleable__control sk-hidden--visually\" id=\"sk-estimator-id-9\" type=\"checkbox\" ><label for=\"sk-estimator-id-9\" class=\"sk-toggleable__label sk-toggleable__label-arrow\">Pipeline</label><div class=\"sk-toggleable__content\"><pre>Pipeline(steps=[(&#x27;columntransformer&#x27;,\n",
       "                 ColumnTransformer(transformers=[(&#x27;standardscaler&#x27;,\n",
       "                                                  StandardScaler(),\n",
       "                                                  [&#x27;inflation_rate_pct&#x27;,\n",
       "                                                   &#x27;interest_rate_pct&#x27;,\n",
       "                                                   &#x27;inflation_rate_pct_chg&#x27;,\n",
       "                                                   &#x27;interest_rate_pct_chg&#x27;,\n",
       "                                                   &#x27;gspc_prev_year_pct_chg&#x27;])])),\n",
       "                (&#x27;logisticregression&#x27;, LogisticRegression())])</pre></div></div></div><div class=\"sk-serial\"><div class=\"sk-item sk-dashed-wrapped\"><div class=\"sk-label-container\"><div class=\"sk-label sk-toggleable\"><input class=\"sk-toggleable__control sk-hidden--visually\" id=\"sk-estimator-id-10\" type=\"checkbox\" ><label for=\"sk-estimator-id-10\" class=\"sk-toggleable__label sk-toggleable__label-arrow\">columntransformer: ColumnTransformer</label><div class=\"sk-toggleable__content\"><pre>ColumnTransformer(transformers=[(&#x27;standardscaler&#x27;, StandardScaler(),\n",
       "                                 [&#x27;inflation_rate_pct&#x27;, &#x27;interest_rate_pct&#x27;,\n",
       "                                  &#x27;inflation_rate_pct_chg&#x27;,\n",
       "                                  &#x27;interest_rate_pct_chg&#x27;,\n",
       "                                  &#x27;gspc_prev_year_pct_chg&#x27;])])</pre></div></div></div><div class=\"sk-parallel\"><div class=\"sk-parallel-item\"><div class=\"sk-item\"><div class=\"sk-label-container\"><div class=\"sk-label sk-toggleable\"><input class=\"sk-toggleable__control sk-hidden--visually\" id=\"sk-estimator-id-11\" type=\"checkbox\" ><label for=\"sk-estimator-id-11\" class=\"sk-toggleable__label sk-toggleable__label-arrow\">standardscaler</label><div class=\"sk-toggleable__content\"><pre>[&#x27;inflation_rate_pct&#x27;, &#x27;interest_rate_pct&#x27;, &#x27;inflation_rate_pct_chg&#x27;, &#x27;interest_rate_pct_chg&#x27;, &#x27;gspc_prev_year_pct_chg&#x27;]</pre></div></div></div><div class=\"sk-serial\"><div class=\"sk-item\"><div class=\"sk-estimator sk-toggleable\"><input class=\"sk-toggleable__control sk-hidden--visually\" id=\"sk-estimator-id-12\" type=\"checkbox\" ><label for=\"sk-estimator-id-12\" class=\"sk-toggleable__label sk-toggleable__label-arrow\">StandardScaler</label><div class=\"sk-toggleable__content\"><pre>StandardScaler()</pre></div></div></div></div></div></div></div></div><div class=\"sk-item\"><div class=\"sk-estimator sk-toggleable\"><input class=\"sk-toggleable__control sk-hidden--visually\" id=\"sk-estimator-id-13\" type=\"checkbox\" ><label for=\"sk-estimator-id-13\" class=\"sk-toggleable__label sk-toggleable__label-arrow\">LogisticRegression</label><div class=\"sk-toggleable__content\"><pre>LogisticRegression()</pre></div></div></div></div></div></div></div>"
      ],
      "text/plain": [
       "Pipeline(steps=[('columntransformer',\n",
       "                 ColumnTransformer(transformers=[('standardscaler',\n",
       "                                                  StandardScaler(),\n",
       "                                                  ['inflation_rate_pct',\n",
       "                                                   'interest_rate_pct',\n",
       "                                                   'inflation_rate_pct_chg',\n",
       "                                                   'interest_rate_pct_chg',\n",
       "                                                   'gspc_prev_year_pct_chg'])])),\n",
       "                ('logisticregression', LogisticRegression())])"
      ]
     },
     "execution_count": 10,
     "metadata": {},
     "output_type": "execute_result"
    }
   ],
   "source": [
    "pipe.fit(X_train, y_train)"
   ]
  },
  {
   "cell_type": "code",
   "execution_count": 11,
   "id": "8c6889e6-00a5-478e-8bb6-94800665aafb",
   "metadata": {},
   "outputs": [
    {
     "data": {
      "text/plain": [
       "0.7530864197530864"
      ]
     },
     "execution_count": 11,
     "metadata": {},
     "output_type": "execute_result"
    }
   ],
   "source": [
    "pipe.score(X_test, y_test)"
   ]
  },
  {
   "cell_type": "markdown",
   "id": "ba590acb-6f49-4c94-be70-72bd6e570f18",
   "metadata": {},
   "source": [
    "The test data of logistic regression yields an accuracy of 75.3%. Accuracy is a metric calculated as the ratio of correct predictions to all predictions. Nevertheless, caution is necessary when interpreting this metric, particularly in the context of class imbalance."
   ]
  },
  {
   "cell_type": "markdown",
   "metadata": {},
   "source": []
  },
  {
   "cell_type": "markdown",
   "metadata": {},
   "source": [
    "##### Dummy Regression"
   ]
  },
  {
   "cell_type": "code",
   "execution_count": 12,
   "metadata": {},
   "outputs": [
    {
     "data": {
      "text/html": [
       "<style>#sk-container-id-4 {color: black;}#sk-container-id-4 pre{padding: 0;}#sk-container-id-4 div.sk-toggleable {background-color: white;}#sk-container-id-4 label.sk-toggleable__label {cursor: pointer;display: block;width: 100%;margin-bottom: 0;padding: 0.3em;box-sizing: border-box;text-align: center;}#sk-container-id-4 label.sk-toggleable__label-arrow:before {content: \"▸\";float: left;margin-right: 0.25em;color: #696969;}#sk-container-id-4 label.sk-toggleable__label-arrow:hover:before {color: black;}#sk-container-id-4 div.sk-estimator:hover label.sk-toggleable__label-arrow:before {color: black;}#sk-container-id-4 div.sk-toggleable__content {max-height: 0;max-width: 0;overflow: hidden;text-align: left;background-color: #f0f8ff;}#sk-container-id-4 div.sk-toggleable__content pre {margin: 0.2em;color: black;border-radius: 0.25em;background-color: #f0f8ff;}#sk-container-id-4 input.sk-toggleable__control:checked~div.sk-toggleable__content {max-height: 200px;max-width: 100%;overflow: auto;}#sk-container-id-4 input.sk-toggleable__control:checked~label.sk-toggleable__label-arrow:before {content: \"▾\";}#sk-container-id-4 div.sk-estimator input.sk-toggleable__control:checked~label.sk-toggleable__label {background-color: #d4ebff;}#sk-container-id-4 div.sk-label input.sk-toggleable__control:checked~label.sk-toggleable__label {background-color: #d4ebff;}#sk-container-id-4 input.sk-hidden--visually {border: 0;clip: rect(1px 1px 1px 1px);clip: rect(1px, 1px, 1px, 1px);height: 1px;margin: -1px;overflow: hidden;padding: 0;position: absolute;width: 1px;}#sk-container-id-4 div.sk-estimator {font-family: monospace;background-color: #f0f8ff;border: 1px dotted black;border-radius: 0.25em;box-sizing: border-box;margin-bottom: 0.5em;}#sk-container-id-4 div.sk-estimator:hover {background-color: #d4ebff;}#sk-container-id-4 div.sk-parallel-item::after {content: \"\";width: 100%;border-bottom: 1px solid gray;flex-grow: 1;}#sk-container-id-4 div.sk-label:hover label.sk-toggleable__label {background-color: #d4ebff;}#sk-container-id-4 div.sk-serial::before {content: \"\";position: absolute;border-left: 1px solid gray;box-sizing: border-box;top: 0;bottom: 0;left: 50%;z-index: 0;}#sk-container-id-4 div.sk-serial {display: flex;flex-direction: column;align-items: center;background-color: white;padding-right: 0.2em;padding-left: 0.2em;position: relative;}#sk-container-id-4 div.sk-item {position: relative;z-index: 1;}#sk-container-id-4 div.sk-parallel {display: flex;align-items: stretch;justify-content: center;background-color: white;position: relative;}#sk-container-id-4 div.sk-item::before, #sk-container-id-4 div.sk-parallel-item::before {content: \"\";position: absolute;border-left: 1px solid gray;box-sizing: border-box;top: 0;bottom: 0;left: 50%;z-index: -1;}#sk-container-id-4 div.sk-parallel-item {display: flex;flex-direction: column;z-index: 1;position: relative;background-color: white;}#sk-container-id-4 div.sk-parallel-item:first-child::after {align-self: flex-end;width: 50%;}#sk-container-id-4 div.sk-parallel-item:last-child::after {align-self: flex-start;width: 50%;}#sk-container-id-4 div.sk-parallel-item:only-child::after {width: 0;}#sk-container-id-4 div.sk-dashed-wrapped {border: 1px dashed gray;margin: 0 0.4em 0.5em 0.4em;box-sizing: border-box;padding-bottom: 0.4em;background-color: white;}#sk-container-id-4 div.sk-label label {font-family: monospace;font-weight: bold;display: inline-block;line-height: 1.2em;}#sk-container-id-4 div.sk-label-container {text-align: center;}#sk-container-id-4 div.sk-container {/* jupyter's `normalize.less` sets `[hidden] { display: none; }` but bootstrap.min.css set `[hidden] { display: none !important; }` so we also need the `!important` here to be able to override the default hidden behavior on the sphinx rendered scikit-learn.org. See: https://github.com/scikit-learn/scikit-learn/issues/21755 */display: inline-block !important;position: relative;}#sk-container-id-4 div.sk-text-repr-fallback {display: none;}</style><div id=\"sk-container-id-4\" class=\"sk-top-container\"><div class=\"sk-text-repr-fallback\"><pre>DummyClassifier()</pre><b>In a Jupyter environment, please rerun this cell to show the HTML representation or trust the notebook. <br />On GitHub, the HTML representation is unable to render, please try loading this page with nbviewer.org.</b></div><div class=\"sk-container\" hidden><div class=\"sk-item\"><div class=\"sk-estimator sk-toggleable\"><input class=\"sk-toggleable__control sk-hidden--visually\" id=\"sk-estimator-id-14\" type=\"checkbox\" checked><label for=\"sk-estimator-id-14\" class=\"sk-toggleable__label sk-toggleable__label-arrow\">DummyClassifier</label><div class=\"sk-toggleable__content\"><pre>DummyClassifier()</pre></div></div></div></div></div>"
      ],
      "text/plain": [
       "DummyClassifier()"
      ]
     },
     "execution_count": 12,
     "metadata": {},
     "output_type": "execute_result"
    }
   ],
   "source": [
    "from sklearn.dummy import DummyClassifier\n",
    "\n",
    "dc = DummyClassifier()\n",
    "dc.fit(X_train, y_train)"
   ]
  },
  {
   "cell_type": "code",
   "execution_count": 13,
   "metadata": {},
   "outputs": [
    {
     "data": {
      "text/plain": [
       "0.7592592592592593"
      ]
     },
     "execution_count": 13,
     "metadata": {},
     "output_type": "execute_result"
    }
   ],
   "source": [
    "dc.score(X_test, y_test)"
   ]
  },
  {
   "cell_type": "markdown",
   "metadata": {},
   "source": [
    "The test data of dummy regression yields an accuracy of 75.9%. The accuracy of dummy regression is better then the accuracy of logistic regression. "
   ]
  },
  {
   "cell_type": "markdown",
   "metadata": {},
   "source": []
  },
  {
   "cell_type": "markdown",
   "id": "76ad4337-50ab-4bd3-b9bc-19c573933717",
   "metadata": {},
   "source": [
    "#### Conclusion\n",
    "In the preceding examination, we utilize `Logistic Regression` and `Dummy Regression`. Consequently, the result is not promising. Further data preprocessing is needed to enhance the overall effectiveness of the model."
   ]
  },
  {
   "cell_type": "code",
   "execution_count": null,
   "id": "1a03eb8d-a040-491f-856d-0a40e5d84266",
   "metadata": {},
   "outputs": [],
   "source": []
  }
 ],
 "metadata": {
  "kernelspec": {
   "display_name": "571",
   "language": "python",
   "name": "python3"
  },
  "language_info": {
   "codemirror_mode": {
    "name": "ipython",
    "version": 3
   },
   "file_extension": ".py",
   "mimetype": "text/x-python",
   "name": "python",
   "nbconvert_exporter": "python",
   "pygments_lexer": "ipython3",
   "version": "3.10.0"
  }
 },
 "nbformat": 4,
 "nbformat_minor": 5
}
