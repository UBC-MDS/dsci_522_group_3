{
 "cells": [
  {
   "cell_type": "markdown",
   "id": "ad4b2ed2-3700-4adf-911e-0b3fde72f4f9",
   "metadata": {},
   "source": [
    "# An Application of Logistic Regression in Finanical Data \n",
    "_We utilized logistic regression to analyze the stock price data and provided a predictive model._\n",
    "\n",
    "Data source: Yahoo Finance\n",
    "\n",
    "by Allan Lee, Jianhao Zhang, Yi Yan and Chengyu Tao (DSCI 522 Group 3 Milestone 1)\n",
    "\n",
    "2023/11/17"
   ]
  },
  {
   "cell_type": "code",
   "execution_count": 1,
   "id": "309a7ded-2dc5-416c-988e-4a18c8f5622f",
   "metadata": {},
   "outputs": [],
   "source": [
    "#Imports\n",
    "import numpy as np\n",
    "import pandas as pd\n",
    "from sklearn.model_selection import train_test_split\n",
    "from sklearn.preprocessing import StandardScaler\n",
    "from sklearn.model_selection import cross_validate\n",
    "from sklearn.compose import make_column_transformer\n",
    "from sklearn.pipeline import make_pipeline\n",
    "from sklearn.linear_model import LogisticRegression\n",
    "from sklearn.model_selection import GridSearchCV\n",
    "from sklearn.metrics import ConfusionMatrixDisplay\n",
    "from sklearn.metrics import classification_report\n",
    "import matplotlib.pyplot as plt"
   ]
  },
  {
   "cell_type": "markdown",
   "id": "26031441-d6bb-4a89-a7da-bc7e070e82e1",
   "metadata": {},
   "source": [
    "#### Load and split the data"
   ]
  },
  {
   "cell_type": "code",
   "execution_count": 2,
   "id": "afa6c942-6814-43b5-866c-1496d3f4974d",
   "metadata": {},
   "outputs": [
    {
     "data": {
      "text/html": [
       "<div>\n",
       "<style scoped>\n",
       "    .dataframe tbody tr th:only-of-type {\n",
       "        vertical-align: middle;\n",
       "    }\n",
       "\n",
       "    .dataframe tbody tr th {\n",
       "        vertical-align: top;\n",
       "    }\n",
       "\n",
       "    .dataframe thead th {\n",
       "        text-align: right;\n",
       "    }\n",
       "</style>\n",
       "<table border=\"1\" class=\"dataframe\">\n",
       "  <thead>\n",
       "    <tr style=\"text-align: right;\">\n",
       "      <th></th>\n",
       "      <th>gspc</th>\n",
       "      <th>inflation_rate_pct</th>\n",
       "      <th>interest_rate_pct</th>\n",
       "      <th>inflation_rate_pct_chg</th>\n",
       "      <th>interest_rate_pct_chg</th>\n",
       "      <th>gspc_prev_year_pct_chg</th>\n",
       "      <th>gspc_next_year_pct_chg</th>\n",
       "      <th>target</th>\n",
       "    </tr>\n",
       "    <tr>\n",
       "      <th>date</th>\n",
       "      <th></th>\n",
       "      <th></th>\n",
       "      <th></th>\n",
       "      <th></th>\n",
       "      <th></th>\n",
       "      <th></th>\n",
       "      <th></th>\n",
       "      <th></th>\n",
       "    </tr>\n",
       "  </thead>\n",
       "  <tbody>\n",
       "    <tr>\n",
       "      <th>2013-04-30</th>\n",
       "      <td>1597.569946</td>\n",
       "      <td>1.361965</td>\n",
       "      <td>0.150</td>\n",
       "      <td>-0.342289</td>\n",
       "      <td>0.000</td>\n",
       "      <td>14.282744</td>\n",
       "      <td>17.925976</td>\n",
       "      <td>True</td>\n",
       "    </tr>\n",
       "    <tr>\n",
       "      <th>1982-12-31</th>\n",
       "      <td>140.639999</td>\n",
       "      <td>3.711559</td>\n",
       "      <td>8.830</td>\n",
       "      <td>-4.679246</td>\n",
       "      <td>-3.470</td>\n",
       "      <td>14.761319</td>\n",
       "      <td>17.271042</td>\n",
       "      <td>True</td>\n",
       "    </tr>\n",
       "    <tr>\n",
       "      <th>1968-01-31</th>\n",
       "      <td>92.239998</td>\n",
       "      <td>3.951368</td>\n",
       "      <td>4.630</td>\n",
       "      <td>1.138868</td>\n",
       "      <td>-0.370</td>\n",
       "      <td>6.500401</td>\n",
       "      <td>11.676067</td>\n",
       "      <td>True</td>\n",
       "    </tr>\n",
       "    <tr>\n",
       "      <th>2005-04-30</th>\n",
       "      <td>1156.849976</td>\n",
       "      <td>2.802750</td>\n",
       "      <td>2.765</td>\n",
       "      <td>-0.249021</td>\n",
       "      <td>1.765</td>\n",
       "      <td>4.474842</td>\n",
       "      <td>13.291266</td>\n",
       "      <td>True</td>\n",
       "    </tr>\n",
       "    <tr>\n",
       "      <th>1986-02-28</th>\n",
       "      <td>226.919998</td>\n",
       "      <td>2.255639</td>\n",
       "      <td>7.830</td>\n",
       "      <td>-1.448065</td>\n",
       "      <td>-0.695</td>\n",
       "      <td>25.245616</td>\n",
       "      <td>25.242383</td>\n",
       "      <td>True</td>\n",
       "    </tr>\n",
       "    <tr>\n",
       "      <th>...</th>\n",
       "      <td>...</td>\n",
       "      <td>...</td>\n",
       "      <td>...</td>\n",
       "      <td>...</td>\n",
       "      <td>...</td>\n",
       "      <td>...</td>\n",
       "      <td>...</td>\n",
       "      <td>...</td>\n",
       "    </tr>\n",
       "    <tr>\n",
       "      <th>1963-09-30</th>\n",
       "      <td>71.699997</td>\n",
       "      <td>1.315789</td>\n",
       "      <td>3.500</td>\n",
       "      <td>-0.017544</td>\n",
       "      <td>0.500</td>\n",
       "      <td>27.421355</td>\n",
       "      <td>17.405863</td>\n",
       "      <td>True</td>\n",
       "    </tr>\n",
       "    <tr>\n",
       "      <th>1982-05-31</th>\n",
       "      <td>111.879997</td>\n",
       "      <td>7.064018</td>\n",
       "      <td>14.590</td>\n",
       "      <td>-2.488582</td>\n",
       "      <td>-3.900</td>\n",
       "      <td>-15.619579</td>\n",
       "      <td>45.146589</td>\n",
       "      <td>True</td>\n",
       "    </tr>\n",
       "    <tr>\n",
       "      <th>1987-05-31</th>\n",
       "      <td>290.100006</td>\n",
       "      <td>3.652968</td>\n",
       "      <td>6.750</td>\n",
       "      <td>1.887169</td>\n",
       "      <td>-0.090</td>\n",
       "      <td>17.283202</td>\n",
       "      <td>-9.631162</td>\n",
       "      <td>False</td>\n",
       "    </tr>\n",
       "    <tr>\n",
       "      <th>1985-12-31</th>\n",
       "      <td>211.279999</td>\n",
       "      <td>3.886256</td>\n",
       "      <td>7.990</td>\n",
       "      <td>0.353381</td>\n",
       "      <td>-0.520</td>\n",
       "      <td>26.333408</td>\n",
       "      <td>14.620409</td>\n",
       "      <td>True</td>\n",
       "    </tr>\n",
       "    <tr>\n",
       "      <th>1998-01-31</th>\n",
       "      <td>980.280029</td>\n",
       "      <td>1.441103</td>\n",
       "      <td>5.510</td>\n",
       "      <td>-1.593113</td>\n",
       "      <td>0.310</td>\n",
       "      <td>24.692183</td>\n",
       "      <td>30.538211</td>\n",
       "      <td>True</td>\n",
       "    </tr>\n",
       "  </tbody>\n",
       "</table>\n",
       "<p>646 rows × 8 columns</p>\n",
       "</div>"
      ],
      "text/plain": [
       "                   gspc  inflation_rate_pct  interest_rate_pct  \\\n",
       "date                                                             \n",
       "2013-04-30  1597.569946            1.361965              0.150   \n",
       "1982-12-31   140.639999            3.711559              8.830   \n",
       "1968-01-31    92.239998            3.951368              4.630   \n",
       "2005-04-30  1156.849976            2.802750              2.765   \n",
       "1986-02-28   226.919998            2.255639              7.830   \n",
       "...                 ...                 ...                ...   \n",
       "1963-09-30    71.699997            1.315789              3.500   \n",
       "1982-05-31   111.879997            7.064018             14.590   \n",
       "1987-05-31   290.100006            3.652968              6.750   \n",
       "1985-12-31   211.279999            3.886256              7.990   \n",
       "1998-01-31   980.280029            1.441103              5.510   \n",
       "\n",
       "            inflation_rate_pct_chg  interest_rate_pct_chg  \\\n",
       "date                                                        \n",
       "2013-04-30               -0.342289                  0.000   \n",
       "1982-12-31               -4.679246                 -3.470   \n",
       "1968-01-31                1.138868                 -0.370   \n",
       "2005-04-30               -0.249021                  1.765   \n",
       "1986-02-28               -1.448065                 -0.695   \n",
       "...                            ...                    ...   \n",
       "1963-09-30               -0.017544                  0.500   \n",
       "1982-05-31               -2.488582                 -3.900   \n",
       "1987-05-31                1.887169                 -0.090   \n",
       "1985-12-31                0.353381                 -0.520   \n",
       "1998-01-31               -1.593113                  0.310   \n",
       "\n",
       "            gspc_prev_year_pct_chg  gspc_next_year_pct_chg  target  \n",
       "date                                                                \n",
       "2013-04-30               14.282744               17.925976    True  \n",
       "1982-12-31               14.761319               17.271042    True  \n",
       "1968-01-31                6.500401               11.676067    True  \n",
       "2005-04-30                4.474842               13.291266    True  \n",
       "1986-02-28               25.245616               25.242383    True  \n",
       "...                            ...                     ...     ...  \n",
       "1963-09-30               27.421355               17.405863    True  \n",
       "1982-05-31              -15.619579               45.146589    True  \n",
       "1987-05-31               17.283202               -9.631162   False  \n",
       "1985-12-31               26.333408               14.620409    True  \n",
       "1998-01-31               24.692183               30.538211    True  \n",
       "\n",
       "[646 rows x 8 columns]"
      ]
     },
     "execution_count": 2,
     "metadata": {},
     "output_type": "execute_result"
    }
   ],
   "source": [
    "#import data and split into train and test\n",
    "df = pd.read_csv(\"Data/Processed/data.csv\", index_col=0)\n",
    "train_df, test_df = train_test_split(df, test_size=0.2, random_state=123)\n",
    "train_df"
   ]
  },
  {
   "cell_type": "code",
   "execution_count": 3,
   "id": "031fac94-39a1-4435-a39e-30c80fdff430",
   "metadata": {},
   "outputs": [],
   "source": [
    "#Separate target value form train and test set \n",
    "X_train = train_df[['inflation_rate_pct', 'interest_rate_pct',\n",
    "       'inflation_rate_pct_chg', 'interest_rate_pct_chg',\n",
    "       'gspc_prev_year_pct_chg']]\n",
    "y_train = train_df[\"target\"]\n",
    "\n",
    "X_test = test_df[['inflation_rate_pct', 'interest_rate_pct',\n",
    "       'inflation_rate_pct_chg', 'interest_rate_pct_chg',\n",
    "       'gspc_prev_year_pct_chg']]\n",
    "y_test = test_df[\"target\"]"
   ]
  },
  {
   "cell_type": "code",
   "execution_count": 4,
   "metadata": {},
   "outputs": [
    {
     "data": {
      "text/plain": [
       "461"
      ]
     },
     "execution_count": 4,
     "metadata": {},
     "output_type": "execute_result"
    }
   ],
   "source": [
    "sum(y_train)"
   ]
  },
  {
   "cell_type": "code",
   "execution_count": 5,
   "metadata": {},
   "outputs": [
    {
     "data": {
      "text/plain": [
       "185"
      ]
     },
     "execution_count": 5,
     "metadata": {},
     "output_type": "execute_result"
    }
   ],
   "source": [
    "len(y_train)-sum(y_train)"
   ]
  },
  {
   "cell_type": "markdown",
   "id": "db5aafbd-c29f-45c5-a8c6-702c58f10d21",
   "metadata": {},
   "source": [
    "#### Data\n",
    "The dataset comprises records for 808 months, with each row featuring a crucial predictor for the corresponding month. Additionally, it indicates whether there was an increase or decrease in the S&P 500 index, denoted by the values True or False.\n"
   ]
  },
  {
   "cell_type": "markdown",
   "id": "75cef766-c7e9-4983-899a-2c56d2fb53aa",
   "metadata": {},
   "source": [
    "#### Preprocessing Data\n",
    "\n",
    "##### Numeric features:\n",
    "- 'inflation_rate_pct'\n",
    "- 'interest_rate_pct'\n",
    "- 'inflation_rate_pct_chg'\n",
    "- 'interest_rate_pct_chg'\n",
    "- 'gspc_prev_year_pct_chg'\n",
    "\n",
    "No missing values, we don't need to do imputation. And we apply a StandardScaler."
   ]
  },
  {
   "cell_type": "code",
   "execution_count": 6,
   "id": "a1fd9e88-4813-41c9-b36f-e1038c4effb9",
   "metadata": {},
   "outputs": [],
   "source": [
    "#Create pipeline for numeric features \n",
    "numeric_pipe = make_pipeline(\n",
    "    StandardScaler()\n",
    ")"
   ]
  },
  {
   "cell_type": "code",
   "execution_count": 8,
   "id": "b7204bfd-54e4-469c-a3a4-f37708c47068",
   "metadata": {},
   "outputs": [],
   "source": [
    "numerical_features = ['inflation_rate_pct', 'interest_rate_pct',\n",
    "       'inflation_rate_pct_chg', 'interest_rate_pct_chg',\n",
    "       'gspc_prev_year_pct_chg']\n",
    "\n",
    "#Create Column Transformer \n",
    "preprocessor = make_column_transformer(    \n",
    "    (numeric_pipe, numerical_features),  \n",
    ")"
   ]
  },
  {
   "cell_type": "markdown",
   "id": "7c5f2860-b44e-44f7-8d5b-3a6424417bab",
   "metadata": {},
   "source": [
    "#### Model Selection\n",
    "##### Logistic Regression\n",
    "Our focus is on identifying whether there is an increase in the S&P 500 index, making it a classification problem. To tackle this, we utilize Logistic Regression. Given the significant imbalance in classes and our emphasis on minimizing false negatives, particularly crucial in medical contexts where we want to reduce instances of patients missing vital treatment, we incorporate the `class_weight` argument. Experimenting with various values for `class_weight`, we find that a ratio of 1:2 provides a satisfactory balance between recall and precision for our objectives.\n"
   ]
  },
  {
   "cell_type": "code",
   "execution_count": 9,
   "id": "296c9473-4a00-4a4c-9439-309559715fd9",
   "metadata": {},
   "outputs": [],
   "source": [
    "pipe = make_pipeline(preprocessor, LogisticRegression(class_weight={0: 2, 1: 1}))"
   ]
  },
  {
   "cell_type": "markdown",
   "id": "76c3fbd4-96cb-4ce7-9d55-e87da554125a",
   "metadata": {},
   "source": [
    "##### Hyperparameter Optimization\n",
    "To identify the optimal model and prevent underfitting or overfitting, we aim to enhance the hyperparameter C of the Logistic Regression through Gridsearch."
   ]
  },
  {
   "cell_type": "code",
   "execution_count": 10,
   "id": "c027fe19-a85d-456a-b032-f7801001eea6",
   "metadata": {},
   "outputs": [
    {
     "data": {
      "text/html": [
       "<style>#sk-container-id-1 {color: black;}#sk-container-id-1 pre{padding: 0;}#sk-container-id-1 div.sk-toggleable {background-color: white;}#sk-container-id-1 label.sk-toggleable__label {cursor: pointer;display: block;width: 100%;margin-bottom: 0;padding: 0.3em;box-sizing: border-box;text-align: center;}#sk-container-id-1 label.sk-toggleable__label-arrow:before {content: \"▸\";float: left;margin-right: 0.25em;color: #696969;}#sk-container-id-1 label.sk-toggleable__label-arrow:hover:before {color: black;}#sk-container-id-1 div.sk-estimator:hover label.sk-toggleable__label-arrow:before {color: black;}#sk-container-id-1 div.sk-toggleable__content {max-height: 0;max-width: 0;overflow: hidden;text-align: left;background-color: #f0f8ff;}#sk-container-id-1 div.sk-toggleable__content pre {margin: 0.2em;color: black;border-radius: 0.25em;background-color: #f0f8ff;}#sk-container-id-1 input.sk-toggleable__control:checked~div.sk-toggleable__content {max-height: 200px;max-width: 100%;overflow: auto;}#sk-container-id-1 input.sk-toggleable__control:checked~label.sk-toggleable__label-arrow:before {content: \"▾\";}#sk-container-id-1 div.sk-estimator input.sk-toggleable__control:checked~label.sk-toggleable__label {background-color: #d4ebff;}#sk-container-id-1 div.sk-label input.sk-toggleable__control:checked~label.sk-toggleable__label {background-color: #d4ebff;}#sk-container-id-1 input.sk-hidden--visually {border: 0;clip: rect(1px 1px 1px 1px);clip: rect(1px, 1px, 1px, 1px);height: 1px;margin: -1px;overflow: hidden;padding: 0;position: absolute;width: 1px;}#sk-container-id-1 div.sk-estimator {font-family: monospace;background-color: #f0f8ff;border: 1px dotted black;border-radius: 0.25em;box-sizing: border-box;margin-bottom: 0.5em;}#sk-container-id-1 div.sk-estimator:hover {background-color: #d4ebff;}#sk-container-id-1 div.sk-parallel-item::after {content: \"\";width: 100%;border-bottom: 1px solid gray;flex-grow: 1;}#sk-container-id-1 div.sk-label:hover label.sk-toggleable__label {background-color: #d4ebff;}#sk-container-id-1 div.sk-serial::before {content: \"\";position: absolute;border-left: 1px solid gray;box-sizing: border-box;top: 0;bottom: 0;left: 50%;z-index: 0;}#sk-container-id-1 div.sk-serial {display: flex;flex-direction: column;align-items: center;background-color: white;padding-right: 0.2em;padding-left: 0.2em;position: relative;}#sk-container-id-1 div.sk-item {position: relative;z-index: 1;}#sk-container-id-1 div.sk-parallel {display: flex;align-items: stretch;justify-content: center;background-color: white;position: relative;}#sk-container-id-1 div.sk-item::before, #sk-container-id-1 div.sk-parallel-item::before {content: \"\";position: absolute;border-left: 1px solid gray;box-sizing: border-box;top: 0;bottom: 0;left: 50%;z-index: -1;}#sk-container-id-1 div.sk-parallel-item {display: flex;flex-direction: column;z-index: 1;position: relative;background-color: white;}#sk-container-id-1 div.sk-parallel-item:first-child::after {align-self: flex-end;width: 50%;}#sk-container-id-1 div.sk-parallel-item:last-child::after {align-self: flex-start;width: 50%;}#sk-container-id-1 div.sk-parallel-item:only-child::after {width: 0;}#sk-container-id-1 div.sk-dashed-wrapped {border: 1px dashed gray;margin: 0 0.4em 0.5em 0.4em;box-sizing: border-box;padding-bottom: 0.4em;background-color: white;}#sk-container-id-1 div.sk-label label {font-family: monospace;font-weight: bold;display: inline-block;line-height: 1.2em;}#sk-container-id-1 div.sk-label-container {text-align: center;}#sk-container-id-1 div.sk-container {/* jupyter's `normalize.less` sets `[hidden] { display: none; }` but bootstrap.min.css set `[hidden] { display: none !important; }` so we also need the `!important` here to be able to override the default hidden behavior on the sphinx rendered scikit-learn.org. See: https://github.com/scikit-learn/scikit-learn/issues/21755 */display: inline-block !important;position: relative;}#sk-container-id-1 div.sk-text-repr-fallback {display: none;}</style><div id=\"sk-container-id-1\" class=\"sk-top-container\"><div class=\"sk-text-repr-fallback\"><pre>GridSearchCV(estimator=Pipeline(steps=[(&#x27;columntransformer&#x27;,\n",
       "                                        ColumnTransformer(transformers=[(&#x27;pipeline&#x27;,\n",
       "                                                                         Pipeline(steps=[(&#x27;standardscaler&#x27;,\n",
       "                                                                                          StandardScaler())]),\n",
       "                                                                         [&#x27;inflation_rate_pct&#x27;,\n",
       "                                                                          &#x27;interest_rate_pct&#x27;,\n",
       "                                                                          &#x27;inflation_rate_pct_chg&#x27;,\n",
       "                                                                          &#x27;interest_rate_pct_chg&#x27;,\n",
       "                                                                          &#x27;gspc_prev_year_pct_chg&#x27;])])),\n",
       "                                       (&#x27;logisticregression&#x27;,\n",
       "                                        LogisticRegression(class_weight={0: 2,\n",
       "                                                                         1: 1}))]),\n",
       "             n_jobs=-1,\n",
       "             param_grid={&#x27;logisticregression__C&#x27;: array([1.e-04, 1.e-03, 1.e-02, 1.e-01, 1.e+00, 1.e+01, 1.e+02, 1.e+03,\n",
       "       1.e+04, 1.e+05])},\n",
       "             return_train_score=True)</pre><b>In a Jupyter environment, please rerun this cell to show the HTML representation or trust the notebook. <br />On GitHub, the HTML representation is unable to render, please try loading this page with nbviewer.org.</b></div><div class=\"sk-container\" hidden><div class=\"sk-item sk-dashed-wrapped\"><div class=\"sk-label-container\"><div class=\"sk-label sk-toggleable\"><input class=\"sk-toggleable__control sk-hidden--visually\" id=\"sk-estimator-id-1\" type=\"checkbox\" ><label for=\"sk-estimator-id-1\" class=\"sk-toggleable__label sk-toggleable__label-arrow\">GridSearchCV</label><div class=\"sk-toggleable__content\"><pre>GridSearchCV(estimator=Pipeline(steps=[(&#x27;columntransformer&#x27;,\n",
       "                                        ColumnTransformer(transformers=[(&#x27;pipeline&#x27;,\n",
       "                                                                         Pipeline(steps=[(&#x27;standardscaler&#x27;,\n",
       "                                                                                          StandardScaler())]),\n",
       "                                                                         [&#x27;inflation_rate_pct&#x27;,\n",
       "                                                                          &#x27;interest_rate_pct&#x27;,\n",
       "                                                                          &#x27;inflation_rate_pct_chg&#x27;,\n",
       "                                                                          &#x27;interest_rate_pct_chg&#x27;,\n",
       "                                                                          &#x27;gspc_prev_year_pct_chg&#x27;])])),\n",
       "                                       (&#x27;logisticregression&#x27;,\n",
       "                                        LogisticRegression(class_weight={0: 2,\n",
       "                                                                         1: 1}))]),\n",
       "             n_jobs=-1,\n",
       "             param_grid={&#x27;logisticregression__C&#x27;: array([1.e-04, 1.e-03, 1.e-02, 1.e-01, 1.e+00, 1.e+01, 1.e+02, 1.e+03,\n",
       "       1.e+04, 1.e+05])},\n",
       "             return_train_score=True)</pre></div></div></div><div class=\"sk-parallel\"><div class=\"sk-parallel-item\"><div class=\"sk-item\"><div class=\"sk-label-container\"><div class=\"sk-label sk-toggleable\"><input class=\"sk-toggleable__control sk-hidden--visually\" id=\"sk-estimator-id-2\" type=\"checkbox\" ><label for=\"sk-estimator-id-2\" class=\"sk-toggleable__label sk-toggleable__label-arrow\">estimator: Pipeline</label><div class=\"sk-toggleable__content\"><pre>Pipeline(steps=[(&#x27;columntransformer&#x27;,\n",
       "                 ColumnTransformer(transformers=[(&#x27;pipeline&#x27;,\n",
       "                                                  Pipeline(steps=[(&#x27;standardscaler&#x27;,\n",
       "                                                                   StandardScaler())]),\n",
       "                                                  [&#x27;inflation_rate_pct&#x27;,\n",
       "                                                   &#x27;interest_rate_pct&#x27;,\n",
       "                                                   &#x27;inflation_rate_pct_chg&#x27;,\n",
       "                                                   &#x27;interest_rate_pct_chg&#x27;,\n",
       "                                                   &#x27;gspc_prev_year_pct_chg&#x27;])])),\n",
       "                (&#x27;logisticregression&#x27;,\n",
       "                 LogisticRegression(class_weight={0: 2, 1: 1}))])</pre></div></div></div><div class=\"sk-serial\"><div class=\"sk-item\"><div class=\"sk-serial\"><div class=\"sk-item sk-dashed-wrapped\"><div class=\"sk-label-container\"><div class=\"sk-label sk-toggleable\"><input class=\"sk-toggleable__control sk-hidden--visually\" id=\"sk-estimator-id-3\" type=\"checkbox\" ><label for=\"sk-estimator-id-3\" class=\"sk-toggleable__label sk-toggleable__label-arrow\">columntransformer: ColumnTransformer</label><div class=\"sk-toggleable__content\"><pre>ColumnTransformer(transformers=[(&#x27;pipeline&#x27;,\n",
       "                                 Pipeline(steps=[(&#x27;standardscaler&#x27;,\n",
       "                                                  StandardScaler())]),\n",
       "                                 [&#x27;inflation_rate_pct&#x27;, &#x27;interest_rate_pct&#x27;,\n",
       "                                  &#x27;inflation_rate_pct_chg&#x27;,\n",
       "                                  &#x27;interest_rate_pct_chg&#x27;,\n",
       "                                  &#x27;gspc_prev_year_pct_chg&#x27;])])</pre></div></div></div><div class=\"sk-parallel\"><div class=\"sk-parallel-item\"><div class=\"sk-item\"><div class=\"sk-label-container\"><div class=\"sk-label sk-toggleable\"><input class=\"sk-toggleable__control sk-hidden--visually\" id=\"sk-estimator-id-4\" type=\"checkbox\" ><label for=\"sk-estimator-id-4\" class=\"sk-toggleable__label sk-toggleable__label-arrow\">pipeline</label><div class=\"sk-toggleable__content\"><pre>[&#x27;inflation_rate_pct&#x27;, &#x27;interest_rate_pct&#x27;, &#x27;inflation_rate_pct_chg&#x27;, &#x27;interest_rate_pct_chg&#x27;, &#x27;gspc_prev_year_pct_chg&#x27;]</pre></div></div></div><div class=\"sk-serial\"><div class=\"sk-item\"><div class=\"sk-serial\"><div class=\"sk-item\"><div class=\"sk-estimator sk-toggleable\"><input class=\"sk-toggleable__control sk-hidden--visually\" id=\"sk-estimator-id-5\" type=\"checkbox\" ><label for=\"sk-estimator-id-5\" class=\"sk-toggleable__label sk-toggleable__label-arrow\">StandardScaler</label><div class=\"sk-toggleable__content\"><pre>StandardScaler()</pre></div></div></div></div></div></div></div></div></div></div><div class=\"sk-item\"><div class=\"sk-estimator sk-toggleable\"><input class=\"sk-toggleable__control sk-hidden--visually\" id=\"sk-estimator-id-6\" type=\"checkbox\" ><label for=\"sk-estimator-id-6\" class=\"sk-toggleable__label sk-toggleable__label-arrow\">LogisticRegression</label><div class=\"sk-toggleable__content\"><pre>LogisticRegression(class_weight={0: 2, 1: 1})</pre></div></div></div></div></div></div></div></div></div></div></div></div>"
      ],
      "text/plain": [
       "GridSearchCV(estimator=Pipeline(steps=[('columntransformer',\n",
       "                                        ColumnTransformer(transformers=[('pipeline',\n",
       "                                                                         Pipeline(steps=[('standardscaler',\n",
       "                                                                                          StandardScaler())]),\n",
       "                                                                         ['inflation_rate_pct',\n",
       "                                                                          'interest_rate_pct',\n",
       "                                                                          'inflation_rate_pct_chg',\n",
       "                                                                          'interest_rate_pct_chg',\n",
       "                                                                          'gspc_prev_year_pct_chg'])])),\n",
       "                                       ('logisticregression',\n",
       "                                        LogisticRegression(class_weight={0: 2,\n",
       "                                                                         1: 1}))]),\n",
       "             n_jobs=-1,\n",
       "             param_grid={'logisticregression__C': array([1.e-04, 1.e-03, 1.e-02, 1.e-01, 1.e+00, 1.e+01, 1.e+02, 1.e+03,\n",
       "       1.e+04, 1.e+05])},\n",
       "             return_train_score=True)"
      ]
     },
     "execution_count": 10,
     "metadata": {},
     "output_type": "execute_result"
    }
   ],
   "source": [
    "# Create a grid search object to fine tune c\n",
    "param_grid = {\n",
    "  \"logisticregression__C\": 10.0 ** np.arange(-4, 6, 1),\n",
    "}\n",
    "gs = GridSearchCV(pipe, param_grid=param_grid, n_jobs=-1, return_train_score=True)\n",
    "gs.fit(X_train, y_train)"
   ]
  },
  {
   "cell_type": "code",
   "execution_count": 18,
   "id": "9bb7e18f-995e-4adb-accd-684fff65dbb9",
   "metadata": {},
   "outputs": [],
   "source": [
    "gs_res = pd.DataFrame(gs.cv_results_)[[\n",
    "    'rank_test_score', 'param_logisticregression__C', \n",
    "    'mean_train_score', 'std_train_score', 'mean_test_score', 'std_test_score']].sort_values('rank_test_score').head(5)"
   ]
  },
  {
   "cell_type": "code",
   "execution_count": 19,
   "id": "02474ea3-8d68-4b1a-8658-a63dbade2b9e",
   "metadata": {},
   "outputs": [
    {
     "data": {
      "text/plain": [
       "{'logisticregression__C': 0.01}"
      ]
     },
     "execution_count": 19,
     "metadata": {},
     "output_type": "execute_result"
    }
   ],
   "source": [
    "gs.best_params_ #value for C: 1000"
   ]
  },
  {
   "cell_type": "code",
   "execution_count": 13,
   "id": "1d86088d-29b6-4683-a698-36b88af4dc22",
   "metadata": {},
   "outputs": [
    {
     "data": {
      "text/plain": [
       "0.7182707215265355"
      ]
     },
     "execution_count": 13,
     "metadata": {},
     "output_type": "execute_result"
    }
   ],
   "source": [
    "gs.best_score_"
   ]
  },
  {
   "cell_type": "markdown",
   "id": "6bce6411-0b01-4541-916e-8c759f785427",
   "metadata": {},
   "source": [
    "##### Applying on test data"
   ]
  },
  {
   "cell_type": "code",
   "execution_count": 14,
   "id": "8c6889e6-00a5-478e-8bb6-94800665aafb",
   "metadata": {},
   "outputs": [
    {
     "data": {
      "text/plain": [
       "0.7345679012345679"
      ]
     },
     "execution_count": 14,
     "metadata": {},
     "output_type": "execute_result"
    }
   ],
   "source": [
    "gs.score(X_test, y_test)"
   ]
  },
  {
   "cell_type": "markdown",
   "id": "ba590acb-6f49-4c94-be70-72bd6e570f18",
   "metadata": {},
   "source": [
    "The test data yields an accuracy of 73.4%. Accuracy is a metric calculated as the ratio of correct predictions to all predictions. This means that in 73.4% of our test instances, the target is predicted correctly, which appears satisfactory. Nevertheless, as previously noted, caution is necessary when interpreting this metric, particularly in the context of class imbalance."
   ]
  },
  {
   "cell_type": "markdown",
   "id": "d1498a97-0f7e-4a2b-81fc-8319a0d9c370",
   "metadata": {},
   "source": [
    "##### Visualization of Confusion Matrix"
   ]
  },
  {
   "cell_type": "code",
   "execution_count": 15,
   "id": "fdf037a7-d345-43ff-a153-a9944cea8caa",
   "metadata": {},
   "outputs": [
    {
     "data": {
      "image/png": "[encoded data removed]",
      "text/plain": [
       "<Figure size 640x480 with 2 Axes>"
      ]
     },
     "metadata": {},
     "output_type": "display_data"
    }
   ],
   "source": [
    "#Create a Confusion Matrix\n",
    "ConfusionMatrixDisplay.from_predictions(\n",
    "    y_test,  # true class labels\n",
    "    gs.predict(X_test),  # predicted class labels\n",
    ")\n",
    "plt.title('Figure 1: Confusion Matrix LogR on Test Data')\n",
    "plt.show()"
   ]
  },
  {
   "cell_type": "code",
   "execution_count": 16,
   "id": "f7163e82-862b-4fc8-983d-99cdda904619",
   "metadata": {},
   "outputs": [
    {
     "name": "stdout",
     "output_type": "stream",
     "text": [
      "Table 2: Classification Report for Test Data\n",
      "              precision    recall  f1-score   support\n",
      "\n",
      "       False       0.43      0.31      0.36        39\n",
      "        True       0.80      0.87      0.83       123\n",
      "\n",
      "    accuracy                           0.73       162\n",
      "   macro avg       0.61      0.59      0.60       162\n",
      "weighted avg       0.71      0.73      0.72       162\n",
      "\n"
     ]
    }
   ],
   "source": [
    "#Classification report for Test Data\n",
    "print(\n",
    "    classification_report(\n",
    "        y_test, gs.predict(X_test)\n",
    "    )\n",
    ")"
   ]
  },
  {
   "cell_type": "markdown",
   "id": "820c7415-7910-434b-bee7-1518e2de7031",
   "metadata": {},
   "source": [
    "The visual representation and the classification report indicate a notably high recall score of 0.87, which is favorable in our context. Conversely, the precision score, standing at 0.80, is also desirable for our scenario. With an accuracy value of 0.73, the overall performance seems acceptable."
   ]
  },
  {
   "cell_type": "markdown",
   "id": "76ad4337-50ab-4bd3-b9bc-19c573933717",
   "metadata": {},
   "source": [
    "#### Conclusion\n",
    "In the preceding examination, we utilize `Logistic Regression`. It's crucial to highlight that the models exhibit suboptimal performance in terms of accuracy scores. Consequently, it becomes essential for future analyses to thoroughly investigate the individual features, scrutinizing their impact on predictions, or to undertake further data preprocessing to enhance the overall effectiveness of the model."
   ]
  },
  {
   "cell_type": "code",
   "execution_count": null,
   "id": "1a03eb8d-a040-491f-856d-0a40e5d84266",
   "metadata": {},
   "outputs": [],
   "source": []
  }
 ],
 "metadata": {
  "kernelspec": {
   "display_name": "571",
   "language": "python",
   "name": "python3"
  },
  "language_info": {
   "codemirror_mode": {
    "name": "ipython",
    "version": 3
   },
   "file_extension": ".py",
   "mimetype": "text/x-python",
   "name": "python",
   "nbconvert_exporter": "python",
   "pygments_lexer": "ipython3",
   "version": "3.10.0"
  }
 },
 "nbformat": 4,
 "nbformat_minor": 5
}
