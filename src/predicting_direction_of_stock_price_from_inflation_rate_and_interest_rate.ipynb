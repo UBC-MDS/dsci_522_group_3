{
 "cells": [
  {
   "cell_type": "markdown",
   "id": "3d1f90cb45bbbc67",
   "metadata": {
    "collapsed": false
   },
   "source": [
    "# Predicting direction of stock price from interest rate and inflation rate"
   ]
  },
  {
   "cell_type": "markdown",
   "metadata": {},
   "source": [
    "\n",
    "_We utilized logistic regression to analyze the stock price data and provided a predictive model._\n",
    "\n",
    "Data source: Yahoo Finance\n",
    "\n",
    "by Allan Lee, Jianhao Zhang, Yi Yan and Chengyu Tao (DSCI 522 Group 3 Milestone 1)\n",
    "\n",
    "2023/11/17"
   ]
  },
  {
   "cell_type": "code",
   "execution_count": null,
   "id": "6f166af3ef293f4f",
   "metadata": {
    "collapsed": false
   },
   "outputs": [],
   "source": [
    "import yfinance as yf\n",
    "import pandas as pd\n",
    "import altair as alt\n",
    "alt.data_transformers.enable(\"vegafusion\")"
   ]
  },
  {
   "cell_type": "code",
   "execution_count": null,
   "metadata": {},
   "outputs": [],
   "source": [
    "import matplotlib.pyplot as plt\n",
    "import numpy as np\n",
    "import pandas as pd\n",
    "from sklearn.model_selection import train_test_split"
   ]
  },
  {
   "cell_type": "code",
   "execution_count": null,
   "metadata": {},
   "outputs": [],
   "source": [
    "import numpy as np\n",
    "import pandas as pd\n",
    "\n",
    "from sklearn.model_selection import train_test_split\n",
    "from sklearn.preprocessing import StandardScaler\n",
    "from sklearn.model_selection import cross_validate\n",
    "from sklearn.compose import make_column_transformer\n",
    "from sklearn.pipeline import make_pipeline\n",
    "from sklearn.linear_model import LogisticRegression\n",
    "from sklearn.model_selection import GridSearchCV\n",
    "from sklearn.metrics import ConfusionMatrixDisplay\n",
    "from sklearn.metrics import classification_report\n",
    "import matplotlib.pyplot as plt"
   ]
  },
  {
   "cell_type": "markdown",
   "id": "7981ce5d4e8beff8",
   "metadata": {
    "collapsed": false
   },
   "source": [
    "## Summary"
   ]
  },
  {
   "cell_type": "markdown",
   "id": "b2f951a7cc0ff71d",
   "metadata": {
    "collapsed": false
   },
   "source": [
    "## Introduction\n",
    "\n",
    "During the COVID-19 pandemic, central banks around the world lowered interest rates to ease economical challenges posed by the pandemic. As the pandemic ease, the lowered interest rate leads to excess consumer spending which increased the inflation rate to unacceptable levels. In order to control the inflation and have it return to pre-pandemic levels, the central bank raised the interest rate sharply to the highest level in 15 years. Nowadays, inflation and interest rate often takes the headline of financial news and with more than 50% of American households owning stocks, our team is curious to find out how inflation and interest rate affect stock returns. We ask the question: given inflation rate and interest rate data, can we predict whether we will profit if we invest in a stock market index and hold for 1 year.\n",
    "\n",
    "## Methods\n",
    "### Data\n",
    "#### Raw\n",
    "1. We decided to use the Standard & Poors 500 Index (S&P500) as stock market proxy. The index tracks stocks of 500 largest companies in USA. The price of S&P500 is obtained from Yahoo Finance.\n",
    "2. Inflation data is obtained from calculating the change of consumer price index (CPI). We obtained United States CPI from the Federal Reserve Economic Data website and computed yearly inflation rate.\n",
    "3. We can use the Federal funds rate as proxy for interest rate. It is the target interest rate set by the Federal reserve for commercial banks to lend and borrow overnight. We obtained the Federal funds rate from the Federal Reserve Economic Data website.\n",
    "#### Derived\n",
    "We derived the change in inflation rate and change in interest rate from the data we have as additional feature. We often hear on the news that inflaiton and interest rate are increasing or decreasing thus we thought these 2 features might provide additional predicting power for our model\n",
    "#### Remarks\n",
    "##### Resampling\n",
    "S&P500 index, CPI, and Interest rate data we obtained have different sampling frequencies. CPI data has the lowest frequency and it is sampled every first day of the month. We decided to resample all data to last day of every month thus it is easy to calculate and interpret year-year and month-month change. Interest rate data was sampled daily and it is noisy. We decided to filter the data by taking monthly median during resampling. The following table summarizes how data preprocessing was done.\n",
    "\n",
    "| Data | Original sampling period         | Preprocess procedure                                                                                                       |\n",
    "|---------------|----------------------------------------------------------------------------------------------------------------------------|\n",
    "| S&P 500 Index | daily | Take the value from last day of month. If we do not have data for last day of month, use the data from the closest previous date  |\n",
    "| CPI           | first day of every month                        | Offset the date by 1 to last day of last month. We thought the value difference for 1 day is neglegible |\n",
    "| Interest Rate | daily | Resample to the last day of month by taking the median price of for every day of the month to filter for noise |\n",
    " \n"
   ]
  },
  {
   "cell_type": "markdown",
   "id": "6fffc5adabc6040f",
   "metadata": {
    "collapsed": false
   },
   "source": [
    "## Results & Discussion\n",
    "\n",
    "### Read Data From Web"
   ]
  },
  {
   "cell_type": "markdown",
   "id": "ada7ca448af303af",
   "metadata": {
    "collapsed": false
   },
   "source": [
    "#### S&P 500\n",
    "##### Read Raw"
   ]
  },
  {
   "cell_type": "code",
   "execution_count": null,
   "id": "323cfa1b5987286e",
   "metadata": {
    "collapsed": false
   },
   "outputs": [],
   "source": [
    "gspc_raw_s: pd.Series = (yf\n",
    "                         .Ticker('^GSPC')\n",
    "                         .history(start='1950-01-01', end='2023-11-01')\n",
    "                         .loc[:, 'Close'])\n",
    "gspc_raw_s.name = 'gspc'\n",
    "gspc_raw_s.index = pd.DatetimeIndex(gspc_raw_s.index.date)\n",
    "gspc_raw_s.index.name = 'date'\n",
    "gspc_raw_s.head()"
   ]
  },
  {
   "cell_type": "code",
   "execution_count": null,
   "id": "577c76797248a397",
   "metadata": {
    "collapsed": false
   },
   "outputs": [],
   "source": [
    "gspc_raw_s.tail()"
   ]
  },
  {
   "cell_type": "markdown",
   "id": "11646a44fc4ee9d",
   "metadata": {
    "collapsed": false
   },
   "source": [
    "##### Resample to last date of month."
   ]
  },
  {
   "cell_type": "code",
   "execution_count": null,
   "id": "d77219431c56b1fe",
   "metadata": {
    "collapsed": false
   },
   "outputs": [],
   "source": [
    "gspc_m_s: pd.Series = gspc_raw_s.resample('M').last()\n",
    "gspc_m_s.head()"
   ]
  },
  {
   "cell_type": "code",
   "execution_count": null,
   "id": "21f6de511bd5bb76",
   "metadata": {
    "collapsed": false
   },
   "outputs": [],
   "source": [
    "gspc_m_s.tail()"
   ]
  },
  {
   "cell_type": "markdown",
   "id": "1457e5228192060f",
   "metadata": {
    "collapsed": false
   },
   "source": [
    "##### check no missing dates"
   ]
  },
  {
   "cell_type": "code",
   "execution_count": null,
   "id": "59b60c3e535b3efb",
   "metadata": {
    "collapsed": false
   },
   "outputs": [],
   "source": [
    "assert ((gspc_m_s.index \n",
    "        == pd.date_range(start=gspc_m_s.index[0],\n",
    "                         end=gspc_m_s.index[-1],\n",
    "                         freq='M')).all())"
   ]
  },
  {
   "cell_type": "markdown",
   "id": "622227bd302c425b",
   "metadata": {
    "collapsed": false
   },
   "source": [
    "##### check no missing value"
   ]
  },
  {
   "cell_type": "code",
   "execution_count": null,
   "id": "98be772fe203a5b8",
   "metadata": {
    "collapsed": false
   },
   "outputs": [],
   "source": [
    "assert not gspc_m_s.isna().any()"
   ]
  },
  {
   "cell_type": "markdown",
   "id": "1a6070cf4c632646",
   "metadata": {
    "collapsed": false
   },
   "source": [
    "##### next year change percentage"
   ]
  },
  {
   "cell_type": "code",
   "execution_count": null,
   "id": "7b669d2818610a3d",
   "metadata": {
    "collapsed": false
   },
   "outputs": [],
   "source": [
    "gspc_next_year_pct_chg: pd.Series = (gspc_m_s.shift(-12) - gspc_m_s) / gspc_m_s * 100\n",
    "gspc_next_year_pct_chg.name = 'gspc_next_year_pct_chg'\n",
    "gspc_next_year_pct_chg.head()"
   ]
  },
  {
   "cell_type": "code",
   "execution_count": null,
   "id": "25e60db894f9353d",
   "metadata": {
    "collapsed": false
   },
   "outputs": [],
   "source": [
    "gspc_next_year_pct_chg.tail()"
   ]
  },
  {
   "cell_type": "code",
   "execution_count": null,
   "id": "f2546c8d8a2e7a48",
   "metadata": {
    "collapsed": false
   },
   "outputs": [],
   "source": [
    "gspc_prev_year_pct_chg: pd.Series = (gspc_m_s - gspc_m_s.shift(12)) / gspc_m_s.shift(12) * 100\n",
    "gspc_prev_year_pct_chg.name = 'gspc_prev_year_pct_chg'\n",
    "gspc_prev_year_pct_chg.head()"
   ]
  },
  {
   "cell_type": "code",
   "execution_count": null,
   "id": "a71ae89d81e5a05d",
   "metadata": {
    "collapsed": false
   },
   "outputs": [],
   "source": [
    "gspc_prev_year_pct_chg.tail()"
   ]
  },
  {
   "cell_type": "markdown",
   "id": "35c13b448cad90f7",
   "metadata": {
    "collapsed": false
   },
   "source": [
    "#### CPI\n",
    "##### read raw"
   ]
  },
  {
   "cell_type": "code",
   "execution_count": null,
   "id": "6469d3b908c2be65",
   "metadata": {
    "collapsed": false
   },
   "outputs": [],
   "source": [
    "cpi_raw_s: pd.Series = (pd.read_csv('https://fred.stlouisfed.org/graph/fredgraph.csv?bgcolor=%23e1e9f0&chart_type=line&drp=0&fo=open%20sans&graph_bgcolor=%23ffffff&height=450&mode=fred&recession_bars=on&txtcolor=%23444444&ts=12&tts=12&width=1318&nt=0&thu=0&trc=0&show_legend=yes&show_axis_titles=yes&show_tooltip=yes&id=CPIAUCNS&scale=left&cosd=1913-01-01&coed=2023-09-01&line_color=%234572a7&link_values=false&line_style=solid&mark_type=none&mw=3&lw=2&ost=-99999&oet=99999&mma=0&fml=a&fq=Monthly&fam=avg&fgst=lin&fgsnd=2020-02-01&line_index=1&transformation=lin&vintage_date=2023-11-11&revision_date=2023-11-11&nd=1913-01-01', parse_dates=['DATE']).set_index('DATE').squeeze())\n",
    "cpi_raw_s.index.name = 'date'\n",
    "cpi_raw_s.name = 'cpi'\n",
    "cpi_raw_s.head(10)"
   ]
  },
  {
   "cell_type": "markdown",
   "id": "af083326b8de9e71",
   "metadata": {
    "collapsed": false
   },
   "source": [
    "##### subtract 1 day to get last day of month"
   ]
  },
  {
   "cell_type": "code",
   "execution_count": null,
   "id": "1c632577820ec2e5",
   "metadata": {
    "collapsed": false
   },
   "outputs": [],
   "source": [
    "cpi_m_s: pd.Series = cpi_raw_s.copy()\n",
    "cpi_m_s.index = cpi_m_s.index - pd.Timedelta(days=1)\n",
    "cpi_m_s.head()"
   ]
  },
  {
   "cell_type": "markdown",
   "id": "196f0e8109f4b470",
   "metadata": {
    "collapsed": false
   },
   "source": [
    "##### check no missing dates"
   ]
  },
  {
   "cell_type": "code",
   "execution_count": null,
   "id": "ce210bfb8fea754c",
   "metadata": {
    "collapsed": false
   },
   "outputs": [],
   "source": [
    "assert ((cpi_m_s.index\n",
    "         == pd.date_range(start=cpi_m_s.index[0],\n",
    "                          end=cpi_m_s.index[-1],\n",
    "                          freq='M')).all())"
   ]
  },
  {
   "cell_type": "markdown",
   "id": "d1cd97df9fbbc7f",
   "metadata": {
    "collapsed": false
   },
   "source": [
    "##### check no missing value"
   ]
  },
  {
   "cell_type": "code",
   "execution_count": null,
   "id": "561ce73bc3f9ce8d",
   "metadata": {
    "collapsed": false
   },
   "outputs": [],
   "source": [
    "assert not cpi_m_s.isna().any()"
   ]
  },
  {
   "cell_type": "markdown",
   "id": "ae3ce3b02348fbd3",
   "metadata": {
    "collapsed": false
   },
   "source": [
    "##### calculate yearly Inflation Rate"
   ]
  },
  {
   "cell_type": "code",
   "execution_count": null,
   "id": "c58241d77ebd08d5",
   "metadata": {
    "collapsed": false
   },
   "outputs": [],
   "source": [
    "inflation_rate_m_s: pd.Series = (cpi_m_s - cpi_m_s.shift(12)) / cpi_m_s.shift(12) * 100\n",
    "inflation_rate_m_s.name = 'inflation_rate_pct'\n",
    "inflation_rate_m_s.head()"
   ]
  },
  {
   "cell_type": "code",
   "execution_count": null,
   "id": "ec08e2d68e23d22b",
   "metadata": {
    "collapsed": false
   },
   "outputs": [],
   "source": [
    "inflation_rate_m_s.tail()"
   ]
  },
  {
   "cell_type": "markdown",
   "id": "e209a68cc08685ed",
   "metadata": {
    "collapsed": false
   },
   "source": [
    "##### previous year change for inflation"
   ]
  },
  {
   "cell_type": "code",
   "execution_count": null,
   "id": "e226640008562f76",
   "metadata": {
    "collapsed": false
   },
   "outputs": [],
   "source": [
    "inflation_rate_chg_m_s: pd.Series = (inflation_rate_m_s \n",
    "                                     - inflation_rate_m_s.shift(12))\n",
    "inflation_rate_chg_m_s.name = 'inflation_rate_pct_chg'\n",
    "inflation_rate_chg_m_s.head()"
   ]
  },
  {
   "cell_type": "code",
   "execution_count": null,
   "id": "c8436d6d4b188417",
   "metadata": {
    "collapsed": false
   },
   "outputs": [],
   "source": [
    "inflation_rate_chg_m_s.tail()"
   ]
  },
  {
   "cell_type": "markdown",
   "id": "1d2dca926897b45e",
   "metadata": {
    "collapsed": false
   },
   "source": [
    "#### Interest Rate\n",
    "##### read raw"
   ]
  },
  {
   "cell_type": "code",
   "execution_count": null,
   "id": "630613a017719d9b",
   "metadata": {
    "collapsed": false
   },
   "outputs": [],
   "source": [
    "interest_rate_raw_s: pd.Series = (pd.read_csv('https://fred.stlouisfed.org/graph/fredgraph.csv?bgcolor=%23e1e9f0&chart_type=line&drp=0&fo=open%20sans&graph_bgcolor=%23ffffff&height=450&mode=fred&recession_bars=on&txtcolor=%23444444&ts=12&tts=12&width=1318&nt=0&thu=0&trc=0&show_legend=yes&show_axis_titles=yes&show_tooltip=yes&id=DFF&scale=left&cosd=1954-07-01&coed=2023-11-08&line_color=%234572a7&link_values=false&line_style=solid&mark_type=none&mw=3&lw=2&ost=-99999&oet=99999&mma=0&fml=a&fq=Daily%2C%207-Day&fam=avg&fgst=lin&fgsnd=2020-02-01&line_index=1&transformation=lin&vintage_date=2023-11-11&revision_date=2023-11-11&nd=1954-07-01', parse_dates=['DATE'])\n",
    "                                  .set_index('DATE')\n",
    "                                  .squeeze())\n",
    "interest_rate_raw_s.index.name = 'date'\n",
    "interest_rate_raw_s.name = 'interest_rate_pct'\n",
    "interest_rate_raw_s.head()"
   ]
  },
  {
   "cell_type": "markdown",
   "id": "977eb068343e165",
   "metadata": {
    "collapsed": false
   },
   "source": [
    "##### resample to last day of month and take median of month"
   ]
  },
  {
   "cell_type": "code",
   "execution_count": null,
   "id": "351b968a2ddbac75",
   "metadata": {
    "collapsed": false
   },
   "outputs": [],
   "source": [
    "interest_rate_m_s: pd.Series = interest_rate_raw_s.resample('M').median()\n",
    "interest_rate_m_s.head()"
   ]
  },
  {
   "cell_type": "markdown",
   "id": "7cf4086a0e7a07da",
   "metadata": {
    "collapsed": false
   },
   "source": [
    "##### check no missing dates"
   ]
  },
  {
   "cell_type": "code",
   "execution_count": null,
   "id": "b23a973d1fe063a8",
   "metadata": {
    "collapsed": false
   },
   "outputs": [],
   "source": [
    "assert ((interest_rate_m_s.index\n",
    "         == pd.date_range(start=interest_rate_m_s.index[0],\n",
    "                          end=interest_rate_m_s.index[-1],\n",
    "                          freq='M')).all())"
   ]
  },
  {
   "cell_type": "markdown",
   "id": "4d10fe5b9922bc1c",
   "metadata": {
    "collapsed": false
   },
   "source": [
    "##### check no missing value"
   ]
  },
  {
   "cell_type": "code",
   "execution_count": null,
   "id": "26ca0f0562f26e42",
   "metadata": {
    "collapsed": false
   },
   "outputs": [],
   "source": [
    "assert not interest_rate_m_s.isna().any()"
   ]
  },
  {
   "cell_type": "markdown",
   "id": "7710b5675859a5a6",
   "metadata": {
    "collapsed": false
   },
   "source": [
    "##### change in interest for the past 12 months"
   ]
  },
  {
   "cell_type": "code",
   "execution_count": null,
   "id": "1abcb6e490ef5ed5",
   "metadata": {
    "collapsed": false
   },
   "outputs": [],
   "source": [
    "interest_rate_chg_m_s: pd.Series = interest_rate_m_s - interest_rate_m_s.shift(12)\n",
    "interest_rate_chg_m_s.name = 'interest_rate_pct_chg'\n",
    "interest_rate_chg_m_s.head()"
   ]
  },
  {
   "cell_type": "code",
   "execution_count": null,
   "id": "bccc6551e5542ad1",
   "metadata": {
    "collapsed": false
   },
   "outputs": [],
   "source": [
    "interest_rate_chg_m_s.tail()"
   ]
  },
  {
   "cell_type": "markdown",
   "id": "8af48dad4f5f6fc7",
   "metadata": {
    "collapsed": false
   },
   "source": [
    "### Data merging\n",
    "\n",
    "Here we combine all data sourced from web into a single data frame.\n",
    "\n",
    "#### columns\n",
    "| column name            | description                                                                                |\n",
    "|------------------------|--------------------------------------------------------------------------------------------|\n",
    "| gspc                   | price of S&P 500 stock index (will be ignored for model)                                   |\n",
    "| inflation_rate_pct     | 1 year inflation rate (12 months ago to now) (will be a feature for model)                 |\n",
    "| interest_rate_pct      | interest rate (will be a feature for model)                                                |                                           \n",
    "| inflation_rate_pct_chg | change of inflation between now and 12 months ago (will be a feature for model)            |       \n",
    "| interest_rate_pct_chg  | change of interest rate between now and 12 months ago (will be a feature for model)        |   \n",
    "| gspc_prev_year_chg_pct | change of gspc between now and 12 months ago (will be a feature for model)                 |            \n",
    "| gspc_next_year_pct_chg | change of gspc between now and 12 months later (will be used to get target)                | \n",
    "| target                 | whether gspc increased 12 months later compared to now (will be target for classification) |                      \n",
    " "
   ]
  },
  {
   "cell_type": "code",
   "execution_count": null,
   "id": "c3502ccbce7e3ada",
   "metadata": {
    "collapsed": false
   },
   "outputs": [],
   "source": [
    "data_df: pd.DataFrame = pd.concat([gspc_m_s,\n",
    "                                   inflation_rate_m_s,\n",
    "                                   interest_rate_m_s,\n",
    "                                   inflation_rate_chg_m_s,\n",
    "                                   interest_rate_chg_m_s,\n",
    "                                   gspc_prev_year_pct_chg,\n",
    "                                   gspc_next_year_pct_chg],\n",
    "                                  axis=1,\n",
    "                                  join='inner')\n",
    "data_df.dropna(axis=0, inplace=True)\n",
    "data_df['target'] = data_df['gspc_next_year_pct_chg'] > 0\n",
    "data_df.index.name = 'date'\n",
    "data_df.head()"
   ]
  },
  {
   "cell_type": "code",
   "execution_count": null,
   "id": "b8b039be5078d502",
   "metadata": {
    "collapsed": false
   },
   "outputs": [],
   "source": [
    "(alt\n",
    " .Chart(data_df)\n",
    " .mark_line()\n",
    " .encode(x=alt.X('date', type='temporal'),\n",
    "         y=alt.Y(alt.repeat('row'), type='quantitative'))\n",
    " .properties(width=1000, height=250)\n",
    " .repeat(row=['gspc', 'inflation_rate_pct', 'interest_rate_pct', 'inflation_rate_pct_chg',\n",
    "              'interest_rate_pct_chg', 'gspc_prev_year_pct_chg', 'gspc_next_year_pct_chg',\n",
    "              'target']))"
   ]
  },
  {
   "cell_type": "code",
   "execution_count": null,
   "metadata": {},
   "outputs": [],
   "source": []
  },
  {
   "cell_type": "markdown",
   "metadata": {},
   "source": []
  },
  {
   "cell_type": "markdown",
   "metadata": {},
   "source": []
  },
  {
   "cell_type": "markdown",
   "metadata": {},
   "source": [
    "# EDA"
   ]
  },
  {
   "cell_type": "code",
   "execution_count": null,
   "metadata": {},
   "outputs": [],
   "source": [
    "df = pd.read_csv(\"../Data/Processed/data.csv\", index_col=0)"
   ]
  },
  {
   "cell_type": "code",
   "execution_count": null,
   "metadata": {},
   "outputs": [],
   "source": [
    "# Column data types \n",
    "df.info()"
   ]
  },
  {
   "cell_type": "markdown",
   "metadata": {},
   "source": [
    "- No NA or missing data in df\n",
    "- One row record the observation for one month.\n",
    "- The time series data is from 1955-07 to 2022-10, which contains 808 observations.\n",
    "- The target is True when the stock price went up, and is False when the stock price went down.\n",
    "- We will use four columns 'inflation_rate_pct', 'interest_rate_pct',\n",
    "       'inflation_rate_pct_chg', 'interest_rate_pct_chg',\n",
    "       'gspc_prev_year_pct_chg' as features, and the target as response in this binary classification problem. "
   ]
  },
  {
   "cell_type": "markdown",
   "metadata": {},
   "source": [
    "# Split data and EDA"
   ]
  },
  {
   "cell_type": "code",
   "execution_count": null,
   "metadata": {},
   "outputs": [],
   "source": [
    "# split data into training and test\n",
    "train_df, test_df = train_test_split(df, test_size=0.2, random_state=123)\n",
    "train_df"
   ]
  },
  {
   "cell_type": "code",
   "execution_count": null,
   "metadata": {},
   "outputs": [],
   "source": [
    "# statistical summary for dataframe\n",
    "train_df.describe()"
   ]
  },
  {
   "cell_type": "code",
   "execution_count": null,
   "metadata": {},
   "outputs": [],
   "source": [
    "train_df.columns"
   ]
  },
  {
   "cell_type": "code",
   "execution_count": null,
   "metadata": {},
   "outputs": [],
   "source": [
    "\n",
    "features = ['inflation_rate_pct', 'interest_rate_pct',\n",
    "       'inflation_rate_pct_chg', 'interest_rate_pct_chg',\n",
    "       'gspc_prev_year_pct_chg']\n",
    "\n",
    "for feat in features:\n",
    "    train_df.groupby(\"target\")[feat].plot.hist(bins=50, alpha=0.5, legend=True, density=True, title=\"Histogram of \" + feat)\n",
    "    plt.xlabel(feat)\n",
    "    plt.show()"
   ]
  },
  {
   "cell_type": "code",
   "execution_count": null,
   "metadata": {},
   "outputs": [],
   "source": [
    "# finding potential correlation between numeric columns\n",
    "num_col = train_df.select_dtypes(include=['float64']).columns.tolist()\n",
    "\n",
    "train_df[num_col].corr('spearman').style.background_gradient()"
   ]
  },
  {
   "cell_type": "markdown",
   "metadata": {},
   "source": [
    "- Spearmean's rank correlation test revealed some potential correlation between columns: \n",
    "\n",
    "**interest_rate_pct vs inflation_rate_pct** \n",
    "\n",
    "**interest_rate_pct_chg vs inflation_rate_pct_chg**\n",
    "\n",
    "**inflation_rate_pct_chg vs inflation_rate_pct**\n",
    "\n",
    "**interest_rate_pct_chg vs interest_rate_pct**"
   ]
  },
  {
   "cell_type": "code",
   "execution_count": null,
   "metadata": {},
   "outputs": [],
   "source": [
    "plt.figure(figsize=(8, 8))\n",
    "\n",
    "plt.scatter(train_df['interest_rate_pct'], train_df['inflation_rate_pct'], s=20, c='blue', alpha=0.7)\n",
    "\n",
    "plt.title('Scatter Plot of Interest Rate vs Inflation Rate')\n",
    "plt.xlabel('Interest Rate (%)')\n",
    "plt.ylabel('Inflation Rate (%)')\n",
    "\n",
    "plt.show()"
   ]
  },
  {
   "cell_type": "code",
   "execution_count": null,
   "metadata": {},
   "outputs": [],
   "source": [
    "plt.figure(figsize=(8, 8))\n",
    "\n",
    "plt.scatter(train_df['interest_rate_pct_chg'], train_df['inflation_rate_pct_chg'], s=20, c='green', alpha=0.7)\n",
    "\n",
    "plt.title('Scatter Plot of Interest Rate Change vs Inflation Rate Change')\n",
    "plt.xlabel('Interest Rate Change (%)')\n",
    "plt.ylabel('Inflation Rate Change (%)')\n",
    "\n",
    "plt.show()"
   ]
  },
  {
   "cell_type": "code",
   "execution_count": null,
   "metadata": {},
   "outputs": [],
   "source": [
    "plt.figure(figsize=(8, 8))\n",
    "\n",
    "plt.scatter(train_df['inflation_rate_pct_chg'], train_df['inflation_rate_pct'], s=20, c='red', alpha=0.7)\n",
    "\n",
    "plt.title('Scatter Plot of Inflation Rate Change vs Inflation Rate')\n",
    "plt.xlabel('Inflation Rate Change (%)')\n",
    "plt.ylabel('Inflation Rate (%)')\n",
    "\n",
    "plt.show()"
   ]
  },
  {
   "cell_type": "code",
   "execution_count": null,
   "metadata": {},
   "outputs": [],
   "source": [
    "plt.figure(figsize=(8, 8))\n",
    "\n",
    "plt.scatter(train_df['interest_rate_pct_chg'], train_df['interest_rate_pct'], s=20, c='blue', alpha=0.7)\n",
    "\n",
    "plt.title('Scatter Plot of Interest Rate Change vs Interest Rate')\n",
    "plt.xlabel('Interest Rate Change (%)')\n",
    "plt.ylabel('Interest Rate (%)')\n",
    "\n",
    "plt.show()"
   ]
  },
  {
   "cell_type": "markdown",
   "metadata": {},
   "source": [
    "- Examine the data type for every column.\n",
    "- Illustrate the distribution of all numeric columns and investigate possible correlations between them.\n",
    "- Divide the dataframe into training and testing datasets with an 80:20 ratio.\n",
    "- Based on the histograms of all columns, the five numerical columns 'inflation_rate_pct', 'interest_rate_pct', 'inflation_rate_pct_chg', 'interest_rate_pct_chg', and 'gspc_prev_year_pct_chg' are helpful in separating the target."
   ]
  },
  {
   "cell_type": "code",
   "execution_count": null,
   "metadata": {},
   "outputs": [],
   "source": []
  },
  {
   "cell_type": "markdown",
   "metadata": {},
   "source": [
    "# Model"
   ]
  },
  {
   "cell_type": "code",
   "execution_count": null,
   "metadata": {},
   "outputs": [],
   "source": [
    "train_df, test_df = train_test_split(df, test_size=0.2, random_state=123)\n",
    "train_df"
   ]
  },
  {
   "cell_type": "code",
   "execution_count": null,
   "metadata": {},
   "outputs": [],
   "source": [
    "#Separate target value form train and test set \n",
    "X_train = train_df[['inflation_rate_pct', 'interest_rate_pct',\n",
    "       'inflation_rate_pct_chg', 'interest_rate_pct_chg',\n",
    "       'gspc_prev_year_pct_chg']]\n",
    "y_train = train_df[\"target\"]\n",
    "\n",
    "X_test = test_df[['inflation_rate_pct', 'interest_rate_pct',\n",
    "       'inflation_rate_pct_chg', 'interest_rate_pct_chg',\n",
    "       'gspc_prev_year_pct_chg']]\n",
    "y_test = test_df[\"target\"]"
   ]
  },
  {
   "cell_type": "markdown",
   "metadata": {},
   "source": [
    "#### Data\n",
    "The dataset comprises records for 808 months, with each row featuring a crucial predictor for the corresponding month. Additionally, it indicates whether there was an increase or decrease in the S&P 500 index, denoted by the values True or False.\n"
   ]
  },
  {
   "cell_type": "markdown",
   "metadata": {},
   "source": [
    "#### Preprocessing Data\n",
    "\n",
    "##### Numeric features:\n",
    "- 'inflation_rate_pct'\n",
    "- 'interest_rate_pct'\n",
    "- 'inflation_rate_pct_chg'\n",
    "- 'interest_rate_pct_chg'\n",
    "- 'gspc_prev_year_pct_chg'\n",
    "\n",
    "Since there is no missing values, imputation is not necessary. And we apply a StandardScaler."
   ]
  },
  {
   "cell_type": "code",
   "execution_count": null,
   "metadata": {},
   "outputs": [],
   "source": [
    "numerical_features = ['inflation_rate_pct', 'interest_rate_pct',\n",
    "       'inflation_rate_pct_chg', 'interest_rate_pct_chg',\n",
    "       'gspc_prev_year_pct_chg']\n",
    "\n",
    "#Create Column Transformer \n",
    "preprocessor = make_column_transformer(    \n",
    "    (StandardScaler(), numerical_features),  \n",
    ")"
   ]
  },
  {
   "cell_type": "markdown",
   "metadata": {},
   "source": [
    "#### Model Selection\n",
    "##### Logistic Regression\n",
    "Our focus is on identifying whether there is an increase in the S&P 500 index, making it a classification problem. To tackle this, we utilize Logistic Regression."
   ]
  },
  {
   "cell_type": "code",
   "execution_count": null,
   "metadata": {},
   "outputs": [],
   "source": [
    "pipe = make_pipeline(preprocessor, LogisticRegression())"
   ]
  },
  {
   "cell_type": "code",
   "execution_count": null,
   "metadata": {},
   "outputs": [],
   "source": [
    "pipe.fit(X_train, y_train)"
   ]
  },
  {
   "cell_type": "code",
   "execution_count": null,
   "metadata": {},
   "outputs": [],
   "source": [
    "pipe.score(X_test, y_test)"
   ]
  },
  {
   "cell_type": "markdown",
   "metadata": {},
   "source": [
    "The test data of logistic regression yields an accuracy of 75.3%. Accuracy is a metric calculated as the ratio of correct predictions to all predictions. Nevertheless, caution is necessary when interpreting this metric, particularly in the context of class imbalance."
   ]
  },
  {
   "cell_type": "markdown",
   "metadata": {},
   "source": [
    "##### Dummy Regression"
   ]
  },
  {
   "cell_type": "code",
   "execution_count": null,
   "metadata": {},
   "outputs": [],
   "source": [
    "from sklearn.dummy import DummyClassifier\n",
    "\n",
    "dc = DummyClassifier()\n",
    "dc.fit(X_train, y_train)"
   ]
  },
  {
   "cell_type": "code",
   "execution_count": null,
   "metadata": {},
   "outputs": [],
   "source": [
    "dc.score(X_test, y_test)"
   ]
  },
  {
   "cell_type": "markdown",
   "metadata": {},
   "source": [
    "The test data of dummy regression yields an accuracy of 75.9%. The accuracy of dummy regression is better then the accuracy of logistic regression. "
   ]
  },
  {
   "cell_type": "markdown",
   "metadata": {},
   "source": [
    "#### Conclusion\n",
    "In the preceding examination, we utilize `Logistic Regression` and `Dummy Regression`. Consequently, the result is not promising. Further data preprocessing is needed to enhance the overall effectiveness of the model."
   ]
  }
 ],
 "metadata": {
  "kernelspec": {
   "display_name": "Python [conda env:root] *",
   "language": "python",
   "name": "conda-root-py"
  },
  "language_info": {
   "codemirror_mode": {
    "name": "ipython",
    "version": 3
   },
   "file_extension": ".py",
   "mimetype": "text/x-python",
   "name": "python",
   "nbconvert_exporter": "python",
   "pygments_lexer": "ipython3",
   "version": "3.11.6"
  }
 },
 "nbformat": 4,
 "nbformat_minor": 5
}
