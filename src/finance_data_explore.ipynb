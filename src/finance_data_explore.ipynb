{
 "cells": [
  {
   "cell_type": "code",
   "execution_count": null,
   "id": "initial_id",
   "metadata": {
    "collapsed": true
   },
   "outputs": [],
   "source": [
    "import yfinance as yf\n",
    "import pandas as pd\n",
    "import altair as alt\n",
    "alt.data_transformers.enable(\"vegafusion\")"
   ]
  },
  {
   "cell_type": "markdown",
   "source": [
    "to install yahoo finance: pip install yfinance"
   ],
   "metadata": {
    "collapsed": false
   },
   "id": "a50f52553df42eb6"
  },
  {
   "cell_type": "markdown",
   "source": [
    "# 1 Background Story\n",
    "During the COVID-19 pandemic, central banks around the world lowered interest rates to ease economical challenges posed by the pandemic. As the pandemic ease, the lowered interest rate leads to excess consumer spending which increased the inflation rate to unacceptable levels. In order to control the inflation and have it return to pre-pandemic levels, the central bank raised the interest rate sharply to the highest level in 15 years. Nowadays, inflation and interest rate often takes the headline of financial news and with more than 50% of American households own stocks, our team is curious to find out how inflation and interest rate affect stock returns.\n",
    "# 2. Data:\n",
    "1. We can use the Standard & Poors 500 Index (S&P500) as stock market proxy. The index tracks stocks of 500 largest companies in USA.\n",
    "2. To obtain inflation, we simpy calculate the change of consumer price index (CPI).\n",
    "3. We can use the Federal funds rate as proxy for interest rate. It is the target interest rate set by the Federal reserve for commercial banks to lend and borrow overnight.\n",
    "# 3. Key Question\n",
    "How does interest rate and inflation affect stock market return for 1 year?\n",
    "In other words, given inflation and interest rate data, can I predict whether I will profit if I invest in the S&P500 index and hold for 1 year.\n",
    "# 4. Analysis:\n",
    "1. EDA.\n",
    "2. Correlation.\n",
    "3. Permutaiton Hypothesis test.\n",
    "   Check whether stock market return is different for 1 year given following groups\n",
    "\n",
    "   test 1: inflation > mean                 vs      inflation < mean\n",
    "   test 2: inflation > 0.75 quartile        vs      inflation < 0.25 quartile\n",
    "   test 3: interest > mean                  vs      interest < mean\n",
    "   test 4: interest > 0.75 quartile         vs      interest < 0.25 quartile\n",
    "# 5. ML classifier:\n",
    "   I think we can just train a logistic regression classifier. It is simple and allows us to interpret the effect each feature has on the outcome.\n",
    "   Features:\n",
    "     1. interest rate \n",
    "     2. inflation rate\n",
    "     3. previous 1 year change in interest rate (calculate from data)\n",
    "     4. previous 1 year change in inflation rate (calculate from data)\n",
    "   Target:\n",
    "     Whether S&P 500 index increased 1 year later: (S&P500_price_1_year_later - S&P500_price_now) > 0\n",
    "   \n",
    " "
   ],
   "metadata": {
    "collapsed": false
   },
   "id": "7aa58ce6a3f91ec6"
  },
  {
   "cell_type": "markdown",
   "source": [
    "# USA Stock Market Index: Standard and Poors 500 (S&P 500)(GSPC)"
   ],
   "metadata": {
    "collapsed": false
   },
   "id": "ced74b695713f71e"
  },
  {
   "cell_type": "code",
   "execution_count": null,
   "outputs": [],
   "source": [
    "gspc = yf.Ticker('^GSPC')\n",
    "gspc_df: pd.DataFrame = gspc.history(start='1930-01-01', end='2023-11-01')\n",
    "gspc_df.head(10)"
   ],
   "metadata": {
    "collapsed": false
   },
   "id": "840868bbceddd969"
  },
  {
   "cell_type": "code",
   "execution_count": null,
   "outputs": [],
   "source": [
    "gspc_df.tail(10)"
   ],
   "metadata": {
    "collapsed": false
   },
   "id": "5a5b8eab3ce54149"
  },
  {
   "cell_type": "code",
   "execution_count": null,
   "outputs": [],
   "source": [
    "alt.Chart(gspc_df).mark_line().encode(x=alt.X('Date', type='temporal'),\n",
    "                                      y=alt.Y('Close').scale(type='log')).properties(width=1500, height=500)"
   ],
   "metadata": {
    "collapsed": false
   },
   "id": "17e7dfee21e38dc"
  },
  {
   "cell_type": "markdown",
   "source": [
    "# USA Consumer Price Index\n",
    "Calculate difference to get inflation rate"
   ],
   "metadata": {
    "collapsed": false
   },
   "id": "3ff12202940c31ca"
  },
  {
   "cell_type": "code",
   "execution_count": null,
   "outputs": [],
   "source": [
    "cpi_df: pd.DataFrame = pd.read_csv('https://fred.stlouisfed.org/graph/fredgraph.csv?bgcolor=%23e1e9f0&chart_type=line&drp=0&fo=open%20sans&graph_bgcolor=%23ffffff&height=450&mode=fred&recession_bars=on&txtcolor=%23444444&ts=12&tts=12&width=1318&nt=0&thu=0&trc=0&show_legend=yes&show_axis_titles=yes&show_tooltip=yes&id=CPIAUCNS&scale=left&cosd=1913-01-01&coed=2023-09-01&line_color=%234572a7&link_values=false&line_style=solid&mark_type=none&mw=3&lw=2&ost=-99999&oet=99999&mma=0&fml=a&fq=Monthly&fam=avg&fgst=lin&fgsnd=2020-02-01&line_index=1&transformation=lin&vintage_date=2023-11-11&revision_date=2023-11-11&nd=1913-01-01')\n",
    "cpi_df.set_index('DATE', inplace=True)\n",
    "cpi_df.head(10)"
   ],
   "metadata": {
    "collapsed": false
   },
   "id": "c7e92cf16ec053e5"
  },
  {
   "cell_type": "code",
   "execution_count": null,
   "outputs": [],
   "source": [
    "cpi_df.tail(10)"
   ],
   "metadata": {
    "collapsed": false
   },
   "id": "76540b047db5b2d2"
  },
  {
   "cell_type": "markdown",
   "source": [
    "##Calculate inflation from CPI"
   ],
   "metadata": {
    "collapsed": false
   },
   "id": "91542f5f5986c83"
  },
  {
   "cell_type": "code",
   "execution_count": null,
   "outputs": [],
   "source": [
    "inflation_rate_df: pd.DataFrame = (cpi_df - cpi_df.shift(12)) / cpi_df.shift(12)\n",
    "inflation_rate_df.dropna(inplace=True)\n",
    "inflation_rate_df.head()\n"
   ],
   "metadata": {
    "collapsed": false
   },
   "id": "ab037ecffd80ebc7"
  },
  {
   "cell_type": "code",
   "execution_count": null,
   "outputs": [],
   "source": [
    "alt.Chart(inflation_rate_df).mark_line().encode(x=alt.X('DATE', type='temporal'),\n",
    "                                                y=alt.Y('CPIAUCNS')).properties(width=1500, height=500)"
   ],
   "metadata": {
    "collapsed": false
   },
   "id": "50757c3687838ae5"
  },
  {
   "cell_type": "markdown",
   "source": [
    "# Federal Funds Rate"
   ],
   "metadata": {
    "collapsed": false
   },
   "id": "f36a5e3f0aea4c25"
  },
  {
   "cell_type": "code",
   "execution_count": null,
   "outputs": [],
   "source": [
    "rate_df: pd.DataFrame = pd.read_csv('https://fred.stlouisfed.org/graph/fredgraph.csv?bgcolor=%23e1e9f0&chart_type=line&drp=0&fo=open%20sans&graph_bgcolor=%23ffffff&height=450&mode=fred&recession_bars=on&txtcolor=%23444444&ts=12&tts=12&width=1318&nt=0&thu=0&trc=0&show_legend=yes&show_axis_titles=yes&show_tooltip=yes&id=DFF&scale=left&cosd=1954-07-01&coed=2023-11-08&line_color=%234572a7&link_values=false&line_style=solid&mark_type=none&mw=3&lw=2&ost=-99999&oet=99999&mma=0&fml=a&fq=Daily%2C%207-Day&fam=avg&fgst=lin&fgsnd=2020-02-01&line_index=1&transformation=lin&vintage_date=2023-11-11&revision_date=2023-11-11&nd=1954-07-01')\n",
    "rate_df.head(10)"
   ],
   "metadata": {
    "collapsed": false
   },
   "id": "bdd0a32dff1cda66"
  },
  {
   "cell_type": "code",
   "execution_count": null,
   "outputs": [],
   "source": [
    "rate_df.tail(10)"
   ],
   "metadata": {
    "collapsed": false
   },
   "id": "c19a860a6abd064c"
  },
  {
   "cell_type": "code",
   "execution_count": null,
   "outputs": [],
   "source": [
    "alt.Chart(rate_df).mark_line().encode(x=alt.X('DATE', type='temporal'),\n",
    "                                      y=alt.Y('DFF')).properties(width=1500, height=500)"
   ],
   "metadata": {
    "collapsed": false
   },
   "id": "d782b29060154de4"
  },
  {
   "cell_type": "markdown",
   "source": [
    "Looks a little noisy, maybe we will just take the moving average of last year"
   ],
   "metadata": {
    "collapsed": false
   },
   "id": "aa171e12a13ad4d3"
  },
  {
   "cell_type": "markdown",
   "source": [
    "# Other remarks\n",
    "We will need to resample all data with monthly time, align and merge all three data."
   ],
   "metadata": {
    "collapsed": false
   },
   "id": "5d51f4a574e90034"
  }
 ],
 "metadata": {
  "kernelspec": {
   "display_name": "Python 3",
   "language": "python",
   "name": "python3"
  },
  "language_info": {
   "codemirror_mode": {
    "name": "ipython",
    "version": 2
   },
   "file_extension": ".py",
   "mimetype": "text/x-python",
   "name": "python",
   "nbconvert_exporter": "python",
   "pygments_lexer": "ipython2",
   "version": "2.7.6"
  }
 },
 "nbformat": 4,
 "nbformat_minor": 5
}
