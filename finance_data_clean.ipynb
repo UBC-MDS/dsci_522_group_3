{
 "cells": [
  {
   "cell_type": "code",
   "execution_count": null,
   "id": "initial_id",
   "metadata": {
    "ExecuteTime": {
     "end_time": "2023-11-15T03:09:25.980781Z",
     "start_time": "2023-11-15T03:09:25.928718Z"
    }
   },
   "outputs": [],
   "source": [
    "import yfinance as yf\n",
    "import pandas as pd\n",
    "import altair as alt\n",
    "alt.data_transformers.enable(\"vegafusion\")"
   ]
  },
  {
   "cell_type": "markdown",
   "id": "ada7ca448af303af",
   "metadata": {
    "collapsed": false,
    "jupyter": {
     "outputs_hidden": false
    }
   },
   "source": [
    "# S&P 500\n",
    "### Read Raw"
   ]
  },
  {
   "cell_type": "code",
   "execution_count": null,
   "id": "323cfa1b5987286e",
   "metadata": {
    "ExecuteTime": {
     "end_time": "2023-11-15T03:09:26.342374Z",
     "start_time": "2023-11-15T03:09:25.937069Z"
    },
    "collapsed": false,
    "jupyter": {
     "outputs_hidden": false
    }
   },
   "outputs": [],
   "source": [
    "gspc_raw_s: pd.Series = (yf\n",
    "                         .Ticker('^GSPC')\n",
    "                         .history(start='1950-01-01', end='2023-11-01')\n",
    "                         .loc[:, 'Close'])\n",
    "gspc_raw_s.name = 'gspc'\n",
    "gspc_raw_s.index.name = 'date'\n",
    "gspc_raw_s.index = pd.DatetimeIndex(gspc_raw_s.index.date)\n",
    "gspc_raw_s.head()"
   ]
  },
  {
   "cell_type": "code",
   "execution_count": null,
   "id": "577c76797248a397",
   "metadata": {
    "ExecuteTime": {
     "end_time": "2023-11-15T03:09:26.342536Z",
     "start_time": "2023-11-15T03:09:26.340037Z"
    },
    "collapsed": false,
    "jupyter": {
     "outputs_hidden": false
    }
   },
   "outputs": [],
   "source": [
    "gspc_raw_s.tail()"
   ]
  },
  {
   "cell_type": "markdown",
   "id": "11646a44fc4ee9d",
   "metadata": {
    "collapsed": false,
    "jupyter": {
     "outputs_hidden": false
    }
   },
   "source": [
    "### Resample to last date of month."
   ]
  },
  {
   "cell_type": "code",
   "execution_count": null,
   "id": "d77219431c56b1fe",
   "metadata": {
    "ExecuteTime": {
     "end_time": "2023-11-15T03:09:26.354767Z",
     "start_time": "2023-11-15T03:09:26.348026Z"
    },
    "collapsed": false,
    "jupyter": {
     "outputs_hidden": false
    }
   },
   "outputs": [],
   "source": [
    "gspc_m_s: pd.Series = gspc_raw_s.resample('M').last()\n",
    "gspc_m_s.head()"
   ]
  },
  {
   "cell_type": "code",
   "execution_count": null,
   "id": "21f6de511bd5bb76",
   "metadata": {
    "ExecuteTime": {
     "end_time": "2023-11-15T03:09:26.354907Z",
     "start_time": "2023-11-15T03:09:26.352272Z"
    },
    "collapsed": false,
    "jupyter": {
     "outputs_hidden": false
    }
   },
   "outputs": [],
   "source": [
    "gspc_m_s.tail()"
   ]
  },
  {
   "cell_type": "markdown",
   "id": "1457e5228192060f",
   "metadata": {
    "collapsed": false,
    "jupyter": {
     "outputs_hidden": false
    }
   },
   "source": [
    "### check no missing dates"
   ]
  },
  {
   "cell_type": "code",
   "execution_count": null,
   "id": "59b60c3e535b3efb",
   "metadata": {
    "ExecuteTime": {
     "end_time": "2023-11-15T03:09:26.367750Z",
     "start_time": "2023-11-15T03:09:26.359962Z"
    },
    "collapsed": false,
    "jupyter": {
     "outputs_hidden": false
    }
   },
   "outputs": [],
   "source": [
    "assert ((gspc_m_s.index \n",
    "        == pd.date_range(start=gspc_m_s.index[0],\n",
    "                         end=gspc_m_s.index[-1],\n",
    "                         freq='M')).all())"
   ]
  },
  {
   "cell_type": "markdown",
   "id": "622227bd302c425b",
   "metadata": {
    "collapsed": false,
    "jupyter": {
     "outputs_hidden": false
    }
   },
   "source": [
    "### check no missing value"
   ]
  },
  {
   "cell_type": "code",
   "execution_count": null,
   "id": "98be772fe203a5b8",
   "metadata": {
    "ExecuteTime": {
     "end_time": "2023-11-15T03:09:26.368032Z",
     "start_time": "2023-11-15T03:09:26.362102Z"
    },
    "collapsed": false,
    "jupyter": {
     "outputs_hidden": false
    }
   },
   "outputs": [],
   "source": [
    "assert not gspc_m_s.isna().any()"
   ]
  },
  {
   "cell_type": "markdown",
   "id": "1a6070cf4c632646",
   "metadata": {
    "collapsed": false,
    "jupyter": {
     "outputs_hidden": false
    }
   },
   "source": [
    "### GSPC next year change percentage"
   ]
  },
  {
   "cell_type": "code",
   "execution_count": null,
   "id": "7b669d2818610a3d",
   "metadata": {
    "ExecuteTime": {
     "end_time": "2023-11-15T03:09:26.368164Z",
     "start_time": "2023-11-15T03:09:26.364627Z"
    },
    "collapsed": false,
    "jupyter": {
     "outputs_hidden": false
    }
   },
   "outputs": [],
   "source": [
    "gspc_next_year_pct_chg: pd.Series = (gspc_m_s.shift(-12) - gspc_m_s) / gspc_m_s * 100\n",
    "gspc_next_year_pct_chg.name = 'gspc_next_year_pct_chg'\n",
    "gspc_next_year_pct_chg.head()"
   ]
  },
  {
   "cell_type": "code",
   "execution_count": null,
   "id": "25e60db894f9353d",
   "metadata": {
    "ExecuteTime": {
     "end_time": "2023-11-15T03:09:26.370298Z",
     "start_time": "2023-11-15T03:09:26.367182Z"
    },
    "collapsed": false,
    "jupyter": {
     "outputs_hidden": false
    }
   },
   "outputs": [],
   "source": [
    "gspc_next_year_pct_chg.tail()"
   ]
  },
  {
   "cell_type": "code",
   "execution_count": null,
   "id": "f2546c8d8a2e7a48",
   "metadata": {
    "ExecuteTime": {
     "end_time": "2023-11-15T03:09:26.376929Z",
     "start_time": "2023-11-15T03:09:26.370483Z"
    },
    "collapsed": false,
    "jupyter": {
     "outputs_hidden": false
    }
   },
   "outputs": [],
   "source": [
    "gspc_prev_year_pct_chg: pd.Series = (gspc_m_s - gspc_m_s.shift(12)) / gspc_m_s.shift(12) * 100\n",
    "gspc_prev_year_pct_chg.name = 'gspc_prev_year_pct_chg'\n",
    "gspc_prev_year_pct_chg.head()"
   ]
  },
  {
   "cell_type": "code",
   "execution_count": null,
   "id": "a71ae89d81e5a05d",
   "metadata": {
    "ExecuteTime": {
     "end_time": "2023-11-15T03:09:26.377136Z",
     "start_time": "2023-11-15T03:09:26.372073Z"
    },
    "collapsed": false,
    "jupyter": {
     "outputs_hidden": false
    }
   },
   "outputs": [],
   "source": [
    "gspc_prev_year_pct_chg.tail()"
   ]
  },
  {
   "cell_type": "markdown",
   "id": "35c13b448cad90f7",
   "metadata": {
    "collapsed": false,
    "jupyter": {
     "outputs_hidden": false
    }
   },
   "source": [
    "# CPI\n",
    "### read raw"
   ]
  },
  {
   "cell_type": "code",
   "execution_count": null,
   "id": "6469d3b908c2be65",
   "metadata": {
    "ExecuteTime": {
     "end_time": "2023-11-15T03:09:26.667196Z",
     "start_time": "2023-11-15T03:09:26.375445Z"
    },
    "collapsed": false,
    "jupyter": {
     "outputs_hidden": false
    }
   },
   "outputs": [],
   "source": [
    "cpi_raw_s: pd.Series = (pd.read_csv('https://fred.stlouisfed.org/graph/fredgraph.csv?bgcolor=%23e1e9f0&chart_type=line&drp=0&fo=open%20sans&graph_bgcolor=%23ffffff&height=450&mode=fred&recession_bars=on&txtcolor=%23444444&ts=12&tts=12&width=1318&nt=0&thu=0&trc=0&show_legend=yes&show_axis_titles=yes&show_tooltip=yes&id=CPIAUCNS&scale=left&cosd=1913-01-01&coed=2023-09-01&line_color=%234572a7&link_values=false&line_style=solid&mark_type=none&mw=3&lw=2&ost=-99999&oet=99999&mma=0&fml=a&fq=Monthly&fam=avg&fgst=lin&fgsnd=2020-02-01&line_index=1&transformation=lin&vintage_date=2023-11-11&revision_date=2023-11-11&nd=1913-01-01', parse_dates=['DATE']).set_index('DATE').squeeze())\n",
    "cpi_raw_s.index.name = 'date'\n",
    "cpi_raw_s.name = 'cpi'\n",
    "cpi_raw_s.head(10)"
   ]
  },
  {
   "cell_type": "markdown",
   "id": "af083326b8de9e71",
   "metadata": {
    "collapsed": false,
    "jupyter": {
     "outputs_hidden": false
    }
   },
   "source": [
    "### subtract 1 day to get last day of month"
   ]
  },
  {
   "cell_type": "code",
   "execution_count": null,
   "id": "1c632577820ec2e5",
   "metadata": {
    "ExecuteTime": {
     "end_time": "2023-11-15T03:09:26.675702Z",
     "start_time": "2023-11-15T03:09:26.666903Z"
    },
    "collapsed": false,
    "jupyter": {
     "outputs_hidden": false
    }
   },
   "outputs": [],
   "source": [
    "cpi_m_s: pd.Series = cpi_raw_s.copy()\n",
    "cpi_m_s.index = cpi_m_s.index - pd.Timedelta(days=1)\n",
    "cpi_m_s.head()"
   ]
  },
  {
   "cell_type": "markdown",
   "id": "196f0e8109f4b470",
   "metadata": {
    "collapsed": false,
    "jupyter": {
     "outputs_hidden": false
    }
   },
   "source": [
    "## check no missing dates"
   ]
  },
  {
   "cell_type": "code",
   "execution_count": null,
   "id": "ce210bfb8fea754c",
   "metadata": {
    "ExecuteTime": {
     "end_time": "2023-11-15T03:09:26.685370Z",
     "start_time": "2023-11-15T03:09:26.683904Z"
    },
    "collapsed": false,
    "jupyter": {
     "outputs_hidden": false
    }
   },
   "outputs": [],
   "source": [
    "assert ((cpi_m_s.index\n",
    "         == pd.date_range(start=cpi_m_s.index[0],\n",
    "                          end=cpi_m_s.index[-1],\n",
    "                          freq='M')).all())"
   ]
  },
  {
   "cell_type": "markdown",
   "id": "d1cd97df9fbbc7f",
   "metadata": {
    "collapsed": false,
    "jupyter": {
     "outputs_hidden": false
    }
   },
   "source": [
    "## check no missing value"
   ]
  },
  {
   "cell_type": "code",
   "execution_count": null,
   "id": "561ce73bc3f9ce8d",
   "metadata": {
    "ExecuteTime": {
     "end_time": "2023-11-15T03:09:26.701146Z",
     "start_time": "2023-11-15T03:09:26.688410Z"
    },
    "collapsed": false,
    "jupyter": {
     "outputs_hidden": false
    }
   },
   "outputs": [],
   "source": [
    "assert not cpi_m_s.isna().any()"
   ]
  },
  {
   "cell_type": "markdown",
   "id": "ae3ce3b02348fbd3",
   "metadata": {
    "collapsed": false,
    "jupyter": {
     "outputs_hidden": false
    }
   },
   "source": [
    "### calculate yearly Inflation Rate"
   ]
  },
  {
   "cell_type": "code",
   "execution_count": null,
   "id": "c58241d77ebd08d5",
   "metadata": {
    "ExecuteTime": {
     "end_time": "2023-11-15T03:09:26.701463Z",
     "start_time": "2023-11-15T03:09:26.691510Z"
    },
    "collapsed": false,
    "jupyter": {
     "outputs_hidden": false
    }
   },
   "outputs": [],
   "source": [
    "inflation_rate_m_s: pd.Series = (cpi_m_s - cpi_m_s.shift(12)) / cpi_m_s.shift(12) * 100\n",
    "inflation_rate_m_s.name = 'inflation_rate_pct'\n",
    "inflation_rate_m_s.head()"
   ]
  },
  {
   "cell_type": "code",
   "execution_count": null,
   "id": "ec08e2d68e23d22b",
   "metadata": {
    "ExecuteTime": {
     "end_time": "2023-11-15T03:09:26.701565Z",
     "start_time": "2023-11-15T03:09:26.694590Z"
    },
    "collapsed": false,
    "jupyter": {
     "outputs_hidden": false
    }
   },
   "outputs": [],
   "source": [
    "inflation_rate_m_s.tail()"
   ]
  },
  {
   "cell_type": "markdown",
   "id": "e209a68cc08685ed",
   "metadata": {
    "collapsed": false,
    "jupyter": {
     "outputs_hidden": false
    }
   },
   "source": [
    "### previous year change for inflation"
   ]
  },
  {
   "cell_type": "code",
   "execution_count": null,
   "id": "e226640008562f76",
   "metadata": {
    "ExecuteTime": {
     "end_time": "2023-11-15T03:09:26.701650Z",
     "start_time": "2023-11-15T03:09:26.697936Z"
    },
    "collapsed": false,
    "jupyter": {
     "outputs_hidden": false
    }
   },
   "outputs": [],
   "source": [
    "inflation_rate_chg_m_s: pd.Series = (inflation_rate_m_s \n",
    "                                     - inflation_rate_m_s.shift(12))\n",
    "inflation_rate_chg_m_s.name = 'inflation_rate_pct_chg'\n",
    "inflation_rate_chg_m_s.head()"
   ]
  },
  {
   "cell_type": "code",
   "execution_count": null,
   "id": "c8436d6d4b188417",
   "metadata": {
    "ExecuteTime": {
     "end_time": "2023-11-15T03:09:26.702716Z",
     "start_time": "2023-11-15T03:09:26.700356Z"
    },
    "collapsed": false,
    "jupyter": {
     "outputs_hidden": false
    }
   },
   "outputs": [],
   "source": [
    "inflation_rate_chg_m_s.tail()"
   ]
  },
  {
   "cell_type": "markdown",
   "id": "1d2dca926897b45e",
   "metadata": {
    "collapsed": false,
    "jupyter": {
     "outputs_hidden": false
    }
   },
   "source": [
    "# Interest Rate\n",
    "### read raw"
   ]
  },
  {
   "cell_type": "code",
   "execution_count": null,
   "id": "630613a017719d9b",
   "metadata": {
    "ExecuteTime": {
     "end_time": "2023-11-15T03:09:27.444577Z",
     "start_time": "2023-11-15T03:09:26.702795Z"
    },
    "collapsed": false,
    "jupyter": {
     "outputs_hidden": false
    }
   },
   "outputs": [],
   "source": [
    "rate_raw_s: pd.Series = (pd.read_csv('https://fred.stlouisfed.org/graph/fredgraph.csv?bgcolor=%23e1e9f0&chart_type=line&drp=0&fo=open%20sans&graph_bgcolor=%23ffffff&height=450&mode=fred&recession_bars=on&txtcolor=%23444444&ts=12&tts=12&width=1318&nt=0&thu=0&trc=0&show_legend=yes&show_axis_titles=yes&show_tooltip=yes&id=DFF&scale=left&cosd=1954-07-01&coed=2023-11-08&line_color=%234572a7&link_values=false&line_style=solid&mark_type=none&mw=3&lw=2&ost=-99999&oet=99999&mma=0&fml=a&fq=Daily%2C%207-Day&fam=avg&fgst=lin&fgsnd=2020-02-01&line_index=1&transformation=lin&vintage_date=2023-11-11&revision_date=2023-11-11&nd=1954-07-01', parse_dates=['DATE'])\n",
    "                         .set_index('DATE')\n",
    "                         .squeeze())\n",
    "rate_raw_s.index.name = 'date'\n",
    "rate_raw_s.name = 'interest_rate_pct'\n",
    "rate_raw_s.head()"
   ]
  },
  {
   "cell_type": "markdown",
   "id": "977eb068343e165",
   "metadata": {
    "collapsed": false,
    "jupyter": {
     "outputs_hidden": false
    }
   },
   "source": [
    "### resample to last day of month and take median of month"
   ]
  },
  {
   "cell_type": "code",
   "execution_count": null,
   "id": "351b968a2ddbac75",
   "metadata": {
    "ExecuteTime": {
     "end_time": "2023-11-15T03:09:27.451900Z",
     "start_time": "2023-11-15T03:09:27.439693Z"
    },
    "collapsed": false,
    "jupyter": {
     "outputs_hidden": false
    }
   },
   "outputs": [],
   "source": [
    "interest_rate_m_s: pd.Series = rate_raw_s.resample('M').median()\n",
    "interest_rate_m_s.head()"
   ]
  },
  {
   "cell_type": "markdown",
   "id": "7cf4086a0e7a07da",
   "metadata": {
    "collapsed": false,
    "jupyter": {
     "outputs_hidden": false
    }
   },
   "source": [
    "## check no missing dates"
   ]
  },
  {
   "cell_type": "code",
   "execution_count": null,
   "id": "b23a973d1fe063a8",
   "metadata": {
    "ExecuteTime": {
     "end_time": "2023-11-15T03:09:27.465128Z",
     "start_time": "2023-11-15T03:09:27.458105Z"
    },
    "collapsed": false,
    "jupyter": {
     "outputs_hidden": false
    }
   },
   "outputs": [],
   "source": [
    "assert ((interest_rate_m_s.index\n",
    "         == pd.date_range(start=interest_rate_m_s.index[0],\n",
    "                          end=interest_rate_m_s.index[-1],\n",
    "                          freq='M')).all())"
   ]
  },
  {
   "cell_type": "markdown",
   "id": "4d10fe5b9922bc1c",
   "metadata": {
    "collapsed": false,
    "jupyter": {
     "outputs_hidden": false
    }
   },
   "source": [
    "## check no missing value"
   ]
  },
  {
   "cell_type": "code",
   "execution_count": null,
   "id": "26ca0f0562f26e42",
   "metadata": {
    "ExecuteTime": {
     "end_time": "2023-11-15T03:09:27.465399Z",
     "start_time": "2023-11-15T03:09:27.460259Z"
    },
    "collapsed": false,
    "jupyter": {
     "outputs_hidden": false
    }
   },
   "outputs": [],
   "source": [
    "assert not interest_rate_m_s.isna().any()"
   ]
  },
  {
   "cell_type": "markdown",
   "id": "7710b5675859a5a6",
   "metadata": {
    "collapsed": false,
    "jupyter": {
     "outputs_hidden": false
    }
   },
   "source": [
    "### change in interest for the past 12 months"
   ]
  },
  {
   "cell_type": "code",
   "execution_count": null,
   "id": "1abcb6e490ef5ed5",
   "metadata": {
    "ExecuteTime": {
     "end_time": "2023-11-15T03:09:27.465530Z",
     "start_time": "2023-11-15T03:09:27.463526Z"
    },
    "collapsed": false,
    "jupyter": {
     "outputs_hidden": false
    }
   },
   "outputs": [],
   "source": [
    "interest_rate_chg_m_s: pd.Series = interest_rate_m_s - interest_rate_m_s.shift(12)\n",
    "interest_rate_chg_m_s.name = 'interest_rate_pct_chg'\n",
    "interest_rate_chg_m_s.head()"
   ]
  },
  {
   "cell_type": "code",
   "execution_count": null,
   "id": "bccc6551e5542ad1",
   "metadata": {
    "ExecuteTime": {
     "end_time": "2023-11-15T03:09:27.467682Z",
     "start_time": "2023-11-15T03:09:27.465695Z"
    },
    "collapsed": false,
    "jupyter": {
     "outputs_hidden": false
    }
   },
   "outputs": [],
   "source": [
    "interest_rate_chg_m_s.tail()"
   ]
  },
  {
   "cell_type": "markdown",
   "id": "8af48dad4f5f6fc7",
   "metadata": {
    "collapsed": false,
    "jupyter": {
     "outputs_hidden": false
    }
   },
   "source": [
    "# Data merging\n",
    "### columns\n",
    "gspc:                   price of S&P 500 stock index (will be ignored for model)\n",
    "inflation_rate_pct:     1 year inflation rate (12 months ago to now) (will be a feature)\n",
    "interest_rate_pct:      interest rate (will be a feature)\n",
    "inflation_rate_pct_chg: change of inflation between now and 12 months ago (will be a feature)\n",
    "interest_rate_pct_chg:  change of interest rate between now and 12 months ago (will be a feature)\n",
    "gspc_prev_year_chg_pct: change of gspc between now and 12 months ago (will be a feature)\n",
    "gspc_next_year_pct_chg: change of gspc between now and 12 months later (will be used to get target)\n",
    "target:                 whether gspc increased 12 months later compared to now.\n",
    " "
   ]
  },
  {
   "cell_type": "code",
   "execution_count": null,
   "id": "c3502ccbce7e3ada",
   "metadata": {
    "ExecuteTime": {
     "end_time": "2023-11-15T03:09:27.475023Z",
     "start_time": "2023-11-15T03:09:27.468494Z"
    },
    "collapsed": false,
    "jupyter": {
     "outputs_hidden": false
    }
   },
   "outputs": [],
   "source": [
    "data_df: pd.DataFrame = pd.concat([gspc_m_s,\n",
    "                                   inflation_rate_m_s,\n",
    "                                   interest_rate_m_s,\n",
    "                                   inflation_rate_chg_m_s,\n",
    "                                   interest_rate_chg_m_s,\n",
    "                                   gspc_prev_year_pct_chg,\n",
    "                                   gspc_next_year_pct_chg],\n",
    "                                  axis=1,\n",
    "                                  join='inner')\n",
    "data_df.dropna(axis=0, inplace=True)\n",
    "data_df['target'] = data_df['gspc_next_year_pct_chg'] > 0\n",
    "data_df.index.name = 'date'\n",
    "data_df.head()"
   ]
  },
  {
   "cell_type": "code",
   "execution_count": null,
   "id": "a403ff8ad6b14545",
   "metadata": {
    "ExecuteTime": {
     "end_time": "2023-11-15T03:09:27.476836Z",
     "start_time": "2023-11-15T03:09:27.475713Z"
    },
    "collapsed": false,
    "jupyter": {
     "outputs_hidden": false
    }
   },
   "outputs": [],
   "source": [
    "data_df.columns"
   ]
  },
  {
   "cell_type": "code",
   "execution_count": null,
   "id": "b8b039be5078d502",
   "metadata": {
    "ExecuteTime": {
     "end_time": "2023-11-15T03:09:27.532643Z",
     "start_time": "2023-11-15T03:09:27.478051Z"
    },
    "collapsed": false,
    "jupyter": {
     "outputs_hidden": false
    }
   },
   "outputs": [],
   "source": [
    "(alt\n",
    " .Chart(data_df)\n",
    " .mark_line()\n",
    " .encode(x=alt.X('date', type='temporal'),\n",
    "         y=alt.Y(alt.repeat('row'), type='quantitative'))\n",
    " .properties(width=1000, height=250)\n",
    " .repeat(row=['gspc', 'inflation_rate_pct', 'interest_rate_pct', 'inflation_rate_pct_chg',\n",
    "              'interest_rate_pct_chg', 'gspc_prev_year_pct_chg', 'gspc_next_year_pct_chg',\n",
    "              'target']))"
   ]
  },
  {
   "cell_type": "code",
   "execution_count": null,
   "id": "28ff624bc75a6a50",
   "metadata": {
    "ExecuteTime": {
     "end_time": "2023-11-15T03:09:27.532894Z",
     "start_time": "2023-11-15T03:09:27.525891Z"
    },
    "collapsed": false,
    "jupyter": {
     "outputs_hidden": false
    }
   },
   "outputs": [],
   "source": []
  }
 ],
 "metadata": {
  "kernelspec": {
   "display_name": "Python 3 (ipykernel)",
   "language": "python",
   "name": "python3"
  },
  "language_info": {
   "codemirror_mode": {
    "name": "ipython",
    "version": 3
   },
   "file_extension": ".py",
   "mimetype": "text/x-python",
   "name": "python",
   "nbconvert_exporter": "python",
   "pygments_lexer": "ipython3",
   "version": "3.11.6"
  }
 },
 "nbformat": 4,
 "nbformat_minor": 5
}
