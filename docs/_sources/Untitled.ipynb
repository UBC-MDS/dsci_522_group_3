{
 "cells": [
  {
   "cell_type": "markdown",
   "id": "d7d316fa-b869-4ed5-bb5f-89842fde370a",
   "metadata": {},
   "source": [
    "# Test"
   ]
  },
  {
   "cell_type": "markdown",
   "id": "7e2cac12-36e7-44fe-b18a-a50c9bba6c88",
   "metadata": {},
   "source": [
    "## Introduction\n",
    "During the COVID-19 pandemic, central banks around the world lowered interest rates to ease economical challenges posed by the pandemic. As the pandemic ease, the lowered interest rate leads to excess consumer spending which increased the inflation rate to unacceptable levels. In order to control the inflation and have it return to pre-pandemic levels, the central bank raised the interest rate sharply to the highest level in 15 years. Nowadays, inflation and interest rate often takes the headline of financial news and with more than 50% of American households owning stocks {cite}`Caporal2023StockOwnership`, our team is curious to find out how inflation and interest rate affect stock returns. We ask the question: given inflation rate and interest rate data, can we predict whether we will profit if we invest in a stock market index and hold for 1 year.\n",
    "\n",
    "\n",
    "## Methods & Results\n",
    "### Data\n",
    "#### Raw\n",
    "1. We decided to use the Standard & Poors 500 Index (S&P500) as stock market proxy. The index tracks stocks of 500 largest companies in USA. The price of S&P500 is obtained from Yahoo Finance {cite}`YahooFinanceSP500`.\n",
    "2. Inflation data is obtained from calculating the change of consumer price index (CPI) {cite}`YahooFinanceSP500`. We obtained United States CPI from the Federal Reserve Economic Data website and computed yearly inflation rate.\n",
    "3. We can use the Federal funds rate as proxy for interest rate. It is the target interest rate set by the Federal reserve for commercial banks to lend and borrow overnight. We obtained the Federal funds rate from the Federal Reserve Economic Data website.\n",
    "\n",
    "#### Derived\n",
    "We derived the change in inflation rate and change in interest rate from the data we have as additional feature. We often hear on the news that inflation and interest rate are increasing or decreasing thus we thought these 2 features might provide additional predicting power for our model\n",
    "\n",
    "#### Analysis\n",
    "\n",
    "The Python programming language {cite}`van1995python` and the following Python packages were used to perform the analysis:  Numpy {cite}`harris2020array`, Pandas {cite}`mckinney-proc-scipy-2010`, Altair {cite}`vanderplas2018altair`, Scikit-learn {cite}`pedregosa2011scikit`. The code used to perform the EDA and create the report which can be found here: https://github.com/UBC-MDS/dsci_522_group_3/tree/main.\n",
    "\n",
    "#### Remarks\n",
    "##### Resampling\n",
    "S&P500 index, CPI, and Interest rate data we obtained have different sampling frequencies. CPI data has the lowest frequency and it is sampled every first day of the month. We decided to resample all data to last day of every month thus it is easy to calculate and interpret year-year and month-month change. Interest rate data was sampled daily and it is noisy. We decided to filter the data by taking monthly median during resampling. The following table summarizes how data preprocessing was done.\n",
    "\n",
    "\n",
    "| Data | Original sampling period | Preprocess procedure |\n",
    "| -------- | -------- | -------- |\n",
    "| S&P 500 Index | daily | Take the value from last day of month. If we do not have data for last day of month, use the data from the closest previous date |\n",
    "| CPI | first day of every month | Offset the date by 1 to last day of last month. We thought the value difference for 1 day is neglegible |\n",
    "| Interest Rate | daily | Resample to the last day of month by taking the median price of for every day of the month to filter for noise |\n",
    "\n",
    "\n",
    " \n"
   ]
  },
  {
   "cell_type": "markdown",
   "id": "a198efbd-8769-4c17-b861-6819a8646ae7",
   "metadata": {},
   "source": [
    "```{bibliography}\n",
    "```"
   ]
  },
  {
   "cell_type": "code",
   "execution_count": null,
   "id": "abb23b6e-4736-47b4-b1de-21f095b73815",
   "metadata": {},
   "outputs": [],
   "source": []
  }
 ],
 "metadata": {
  "kernelspec": {
   "display_name": "Python [conda env:522Group3]",
   "language": "python",
   "name": "conda-env-522Group3-py"
  },
  "language_info": {
   "codemirror_mode": {
    "name": "ipython",
    "version": 3
   },
   "file_extension": ".py",
   "mimetype": "text/x-python",
   "name": "python",
   "nbconvert_exporter": "python",
   "pygments_lexer": "ipython3",
   "version": "3.11.6"
  }
 },
 "nbformat": 4,
 "nbformat_minor": 5
}
