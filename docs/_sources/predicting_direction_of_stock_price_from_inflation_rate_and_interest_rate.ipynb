{
 "cells": [
  {
   "cell_type": "markdown",
   "id": "3d1f90cb45bbbc67",
   "metadata": {},
   "source": [
    "# Predicting direction of stock price from interest rate and inflation rate"
   ]
  },
  {
   "cell_type": "markdown",
   "id": "df82e39a",
   "metadata": {},
   "source": [
    "\n",
    "_We utilized logistic regression to analyze the stock price data and provided a predictive model._\n",
    "\n",
    "by Allan Lee, Jianhao Zhang, Yi Yan and Chengyu Tao (DSCI 522 Group 3 Milestone 3)\n",
    "\n",
    "2023/12/02"
   ]
  },
  {
   "cell_type": "code",
   "execution_count": 1,
   "id": "6f166af3ef293f4f",
   "metadata": {
    "ExecuteTime": {
     "end_time": "2023-11-23T03:35:10.185844Z",
     "start_time": "2023-11-23T03:35:10.149061Z"
    },
    "collapsed": false,
    "jupyter": {
     "outputs_hidden": false
    },
    "tags": [
     "remove-cell"
    ]
   },
   "outputs": [
    {
     "data": {
      "text/plain": [
       "DataTransformerRegistry.enable('vegafusion')"
      ]
     },
     "execution_count": 1,
     "metadata": {},
     "output_type": "execute_result"
    }
   ],
   "source": [
    "# import yfinance as yf\n",
    "# import pandas as pd\n",
    "# import altair as alt\n",
    "# from myst_nb import glue\n",
    "# #import pickle\n",
    "# #from sklearn import set_config\n",
    "# alt.data_transformers.enable(\"vegafusion\")"
   ]
  },
  {
   "cell_type": "code",
   "execution_count": 2,
   "id": "2b238ae9-3de2-469c-a5b8-a52d01b40c0c",
   "metadata": {
    "ExecuteTime": {
     "end_time": "2023-11-23T03:35:10.185844Z",
     "start_time": "2023-11-23T03:35:10.149061Z"
    },
    "collapsed": false,
    "jupyter": {
     "outputs_hidden": false
    },
    "tags": [
     "remove-cell"
    ]
   },
   "outputs": [
    {
     "data": {
      "text/plain": [
       "DataTransformerRegistry.enable('vegafusion')"
      ]
     },
     "execution_count": 2,
     "metadata": {},
     "output_type": "execute_result"
    }
   ],
   "source": [
    "# import yfinance as yf\n",
    "# import pandas as pd\n",
    "# import altair as alt\n",
    "# from myst_nb import glue\n",
    "# #import pickle\n",
    "# #from sklearn import set_config\n",
    "# alt.data_transformers.enable(\"vegafusion\")"
   ]
  },
  {
   "cell_type": "code",
   "execution_count": 17,
   "id": "63270171-07bf-4690-86d5-dff5d7c73f86",
   "metadata": {
    "tags": [
     "remove-cell"
    ]
   },
   "outputs": [
    {
     "data": {
      "application/papermill.record/text/html": "<div>\n<style scoped>\n    .dataframe tbody tr th:only-of-type {\n        vertical-align: middle;\n    }\n\n    .dataframe tbody tr th {\n        vertical-align: top;\n    }\n\n    .dataframe thead th {\n        text-align: right;\n    }\n</style>\n<table border=\"1\" class=\"dataframe\">\n  <thead>\n    <tr style=\"text-align: right;\">\n      <th></th>\n      <th>Unnamed: 0</th>\n      <th>dummy_model_score</th>\n      <th>logistic_regression_score</th>\n    </tr>\n  </thead>\n  <tbody>\n    <tr>\n      <th>0</th>\n      <td>0</td>\n      <td>0.759259</td>\n      <td>0.753086</td>\n    </tr>\n  </tbody>\n</table>\n</div>",
      "application/papermill.record/text/plain": "   Unnamed: 0  dummy_model_score  logistic_regression_score\n0           0           0.759259                   0.753086"
     },
     "metadata": {
      "scrapbook": {
       "mime_prefix": "application/papermill.record/",
       "name": "result_df"
      }
     },
     "output_type": "display_data"
    },
    {
     "data": {
      "application/papermill.record/text/html": "<div>\n<style scoped>\n    .dataframe tbody tr th:only-of-type {\n        vertical-align: middle;\n    }\n\n    .dataframe tbody tr th {\n        vertical-align: top;\n    }\n\n    .dataframe thead th {\n        text-align: right;\n    }\n</style>\n<table border=\"1\" class=\"dataframe\">\n  <thead>\n    <tr style=\"text-align: right;\">\n      <th></th>\n      <th>date</th>\n      <th>gspc</th>\n      <th>gspc_next_year_pct_chg</th>\n      <th>gspc_prev_year_pct_chg</th>\n      <th>inflation_rate_pct</th>\n      <th>inflation_rate_pct_chg</th>\n      <th>interest_rate_pct</th>\n      <th>interest_rate_pct_chg</th>\n      <th>target</th>\n    </tr>\n  </thead>\n  <tbody>\n    <tr>\n      <th>0</th>\n      <td>1955-07-31</td>\n      <td>43.520000</td>\n      <td>13.488049</td>\n      <td>40.932648</td>\n      <td>-0.371747</td>\n      <td>-0.371747</td>\n      <td>1.69</td>\n      <td>0.94</td>\n      <td>True</td>\n    </tr>\n    <tr>\n      <th>1</th>\n      <td>1955-08-31</td>\n      <td>43.180000</td>\n      <td>10.027786</td>\n      <td>44.753605</td>\n      <td>0.373134</td>\n      <td>0.744882</td>\n      <td>2.00</td>\n      <td>0.62</td>\n      <td>True</td>\n    </tr>\n    <tr>\n      <th>2</th>\n      <td>1955-09-30</td>\n      <td>43.669998</td>\n      <td>3.847035</td>\n      <td>35.159382</td>\n      <td>0.373134</td>\n      <td>1.113875</td>\n      <td>2.19</td>\n      <td>1.00</td>\n      <td>True</td>\n    </tr>\n    <tr>\n      <th>3</th>\n      <td>1955-10-31</td>\n      <td>42.340000</td>\n      <td>7.652342</td>\n      <td>33.648989</td>\n      <td>0.373134</td>\n      <td>0.744882</td>\n      <td>2.25</td>\n      <td>1.25</td>\n      <td>True</td>\n    </tr>\n    <tr>\n      <th>4</th>\n      <td>1955-11-30</td>\n      <td>45.509998</td>\n      <td>-0.944840</td>\n      <td>32.914708</td>\n      <td>0.374532</td>\n      <td>1.118026</td>\n      <td>2.25</td>\n      <td>1.37</td>\n      <td>False</td>\n    </tr>\n  </tbody>\n</table>\n</div>",
      "application/papermill.record/text/plain": "         date       gspc  gspc_next_year_pct_chg  gspc_prev_year_pct_chg  \\\n0  1955-07-31  43.520000               13.488049               40.932648   \n1  1955-08-31  43.180000               10.027786               44.753605   \n2  1955-09-30  43.669998                3.847035               35.159382   \n3  1955-10-31  42.340000                7.652342               33.648989   \n4  1955-11-30  45.509998               -0.944840               32.914708   \n\n   inflation_rate_pct  inflation_rate_pct_chg  interest_rate_pct  \\\n0           -0.371747               -0.371747               1.69   \n1            0.373134                0.744882               2.00   \n2            0.373134                1.113875               2.19   \n3            0.373134                0.744882               2.25   \n4            0.374532                1.118026               2.25   \n\n   interest_rate_pct_chg  target  \n0                   0.94    True  \n1                   0.62    True  \n2                   1.00    True  \n3                   1.25    True  \n4                   1.37   False  "
     },
     "metadata": {
      "scrapbook": {
       "mime_prefix": "application/papermill.record/",
       "name": "data_head"
      }
     },
     "output_type": "display_data"
    }
   ],
   "source": [
    "result_df=pd.read_csv(\"../results/tables/mdl_result.csv\")\n",
    "glue(\"result_df\", result_df, display=False)\n",
    "data_head=pd.read_csv(\"../Data/Processed/processed_data.csv\").head()\n",
    "glue(\"data_head\", data_head, display=False)"
   ]
  },
  {
   "cell_type": "code",
   "execution_count": 18,
   "id": "5cd6525d-ebde-402d-be3e-4e1e0e88fa5c",
   "metadata": {
    "tags": [
     "remove-cell"
    ]
   },
   "outputs": [
    {
     "data": {
      "application/papermill.record/text/plain": "75.92592592592592"
     },
     "metadata": {
      "scrapbook": {
       "mime_prefix": "application/papermill.record/",
       "name": "dummy_mean_test_score"
      }
     },
     "output_type": "display_data"
    },
    {
     "data": {
      "application/papermill.record/text/plain": "75.30864197530865"
     },
     "metadata": {
      "scrapbook": {
       "mime_prefix": "application/papermill.record/",
       "name": "regression_mean_test_score"
      }
     },
     "output_type": "display_data"
    }
   ],
   "source": [
    "dummy_score = result_df[\"dummy_model_score\"][0] * 100\n",
    "glue(\"dummy_mean_test_score\",dummy_score, display=False)\n",
    "regression_score = result_df[\"logistic_regression_score\"][0] * 100\n",
    "glue(\"regression_mean_test_score\",regression_score, display=False)\n"
   ]
  },
  {
   "cell_type": "code",
   "execution_count": 3,
   "id": "eac05be4",
   "metadata": {
    "ExecuteTime": {
     "end_time": "2023-11-23T03:35:10.186010Z",
     "start_time": "2023-11-23T03:35:10.151508Z"
    },
    "tags": [
     "remove-cell"
    ]
   },
   "outputs": [
    {
     "ename": "ModuleNotFoundError",
     "evalue": "No module named 'data_read'",
     "output_type": "error",
     "traceback": [
      "\u001b[0;31m---------------------------------------------------------------------------\u001b[0m",
      "\u001b[0;31mModuleNotFoundError\u001b[0m                       Traceback (most recent call last)",
      "Cell \u001b[0;32mIn[3], line 5\u001b[0m\n\u001b[1;32m      3\u001b[0m \u001b[38;5;28;01mimport\u001b[39;00m \u001b[38;5;21;01mpandas\u001b[39;00m \u001b[38;5;28;01mas\u001b[39;00m \u001b[38;5;21;01mpd\u001b[39;00m\n\u001b[1;32m      4\u001b[0m \u001b[38;5;28;01mfrom\u001b[39;00m \u001b[38;5;21;01msklearn\u001b[39;00m\u001b[38;5;21;01m.\u001b[39;00m\u001b[38;5;21;01mmodel_selection\u001b[39;00m \u001b[38;5;28;01mimport\u001b[39;00m train_test_split\n\u001b[0;32m----> 5\u001b[0m \u001b[38;5;28;01mimport\u001b[39;00m \u001b[38;5;21;01mdata_read\u001b[39;00m\n\u001b[1;32m      6\u001b[0m \u001b[38;5;28;01mfrom\u001b[39;00m \u001b[38;5;21;01mtrain_test_split_class\u001b[39;00m \u001b[38;5;28;01mimport\u001b[39;00m train_test_split_class\n",
      "\u001b[0;31mModuleNotFoundError\u001b[0m: No module named 'data_read'"
     ]
    }
   ],
   "source": [
    "# import matplotlib.pyplot as plt\n",
    "# import numpy as np\n",
    "# import pandas as pd\n",
    "# from sklearn.model_selection import train_test_split\n",
    "# import data_read\n",
    "# from train_test_split_class import train_test_split_class"
   ]
  },
  {
   "cell_type": "code",
   "execution_count": null,
   "id": "1967f41c",
   "metadata": {
    "ExecuteTime": {
     "end_time": "2023-11-23T03:35:10.195664Z",
     "start_time": "2023-11-23T03:35:10.154993Z"
    },
    "tags": [
     "remove-cell"
    ]
   },
   "outputs": [],
   "source": [
    "# import numpy as np\n",
    "# import pandas as pd\n",
    "\n",
    "# from sklearn.model_selection import train_test_split\n",
    "# from sklearn.preprocessing import StandardScaler\n",
    "# from sklearn.model_selection import cross_validate\n",
    "# from sklearn.compose import make_column_transformer\n",
    "# from sklearn.pipeline import make_pipeline\n",
    "# from sklearn.linear_model import LogisticRegression\n",
    "# from sklearn.model_selection import GridSearchCV\n",
    "# from sklearn.metrics import ConfusionMatrixDisplay\n",
    "# from sklearn.metrics import classification_report\n",
    "# import matplotlib.pyplot as plt"
   ]
  },
  {
   "cell_type": "markdown",
   "id": "7981ce5d4e8beff8",
   "metadata": {},
   "source": [
    "## Summary"
   ]
  },
  {
   "cell_type": "markdown",
   "id": "b2f951a7cc0ff71d",
   "metadata": {},
   "source": [
    "## Introduction\n",
    "During the COVID-19 pandemic, central banks around the world lowered interest rates to ease economical challenges posed by the pandemic. As the pandemic ease, the lowered interest rate leads to excess consumer spending which increased the inflation rate to unacceptable levels. In order to control the inflation and have it return to pre-pandemic levels, the central bank raised the interest rate sharply to the highest level in 15 years. Nowadays, inflation and interest rate often takes the headline of financial news and with more than 50% of American households owning stocks {cite}`Caporal2023StockOwnership`, our team is curious to find out how inflation and interest rate affect stock returns. We ask the question: given inflation rate and interest rate data, can we predict whether we will profit if we invest in a stock market index and hold for 1 year.\n",
    "## Methods & Results\n",
    "### Data\n",
    "#### Raw\n",
    "1. We decided to use the Standard & Poors 500 Index (S&P500) as stock market proxy. The index tracks stocks of 500 largest companies in USA. The price of S&P500 is obtained from Yahoo Finance {cite}`YahooFinanceSP500`.\n",
    "2. Inflation data is obtained from calculating the change of consumer price index (CPI) {cite}`YahooFinanceSP500`. We obtained United States CPI from the Federal Reserve Economic Data website and computed yearly inflation rate.\n",
    "3. We can use the Federal funds rate as proxy for interest rate. It is the target interest rate set by the Federal reserve for commercial banks to lend and borrow overnight. We obtained the Federal funds rate from the Federal Reserve Economic Data website.\n",
    "#### Derived\n",
    "We derived the change in inflation rate and change in interest rate from the data we have as additional feature. We often hear on the news that inflation and interest rate are increasing or decreasing thus we thought these 2 features might provide additional predicting power for our model\n",
    "#### Analysis\n",
    "The Python programming language {cite}`van1995python` and the following Python packages were used to perform the analysis:  Numpy {cite}`harris2020array`, Pandas {cite}`mckinney-proc-scipy-2010`, Altair {cite}`vanderplas2018altair`, Scikit-learn {cite}`pedregosa2011scikit`. The code used to perform the EDA and create the report which can be found here: https://github.com/UBC-MDS/dsci_522_group_3/tree/main.\n",
    "\n",
    "#### Remarks\n",
    "##### Resampling\n",
    "S&P500 index, CPI, and Interest rate data we obtained have different sampling frequencies. CPI data has the lowest frequency and it is sampled every first day of the month. We decided to resample all data to last day of every month thus it is easy to calculate and interpret year-year and month-month change. Interest rate data was sampled daily and it is noisy. We decided to filter the data by taking monthly median during resampling. The following table summarizes how data preprocessing was done.\n",
    "\n",
    "\n",
    "| Data | Original sampling period | Preprocess procedure |\n",
    "| -------- | -------- | -------- |\n",
    "| S&P 500 Index | daily | Take the value from last day of month. If we do not have data for last day of month, use the data from the closest previous date |\n",
    "| CPI | first day of every month | Offset the date by 1 to last day of last month. We thought the value difference for 1 day is neglegible |\n",
    "| Interest Rate | daily | Resample to the last day of month by taking the median price of for every day of the month to filter for noise |\n",
    "\n",
    "\n",
    " \n"
   ]
  },
  {
   "cell_type": "markdown",
   "id": "8af48dad4f5f6fc7",
   "metadata": {},
   "source": [
    "### Read Data From Web\n",
    "\n",
    "Here we read all data.\n",
    "\n",
    "#### columns\n",
    "| column name            | description                                                                                |\n",
    "|------------------------|--------------------------------------------------------------------------------------------|\n",
    "| gspc                   | price of S&P 500 stock index (will be ignored for model)                                   |\n",
    "| inflation_rate_pct     | 1 year inflation rate (12 months ago to now) (will be a feature for model)                 |\n",
    "| interest_rate_pct      | interest rate (will be a feature for model)                                                |                                           \n",
    "| inflation_rate_pct_chg | change of inflation between now and 12 months ago (will be a feature for model)            |       \n",
    "| interest_rate_pct_chg  | change of interest rate between now and 12 months ago (will be a feature for model)        |   \n",
    "| gspc_prev_year_chg_pct | change of gspc between now and 12 months ago (will be a feature for model)                 |            \n",
    "| gspc_next_year_pct_chg | change of gspc between now and 12 months later (will be used to get target)                | \n",
    "| target                 | whether gspc increased 12 months later compared to now (will be target for classification) |                      \n",
    " "
   ]
  },
  {
   "cell_type": "code",
   "execution_count": null,
   "id": "c3502ccbce7e3ada",
   "metadata": {
    "ExecuteTime": {
     "end_time": "2023-11-23T03:35:10.908992Z",
     "start_time": "2023-11-23T03:35:10.157770Z"
    },
    "collapsed": false,
    "jupyter": {
     "outputs_hidden": false
    },
    "tags": [
     "remove-cell"
    ]
   },
   "outputs": [],
   "source": [
    "# data_df: pd.DataFrame = data_read.get_all_data()"
   ]
  },
  {
   "cell_type": "markdown",
   "id": "19d61227-d9d1-4c73-885e-6a82b8c9c16a",
   "metadata": {
    "ExecuteTime": {
     "end_time": "2023-11-23T03:35:10.914319Z",
     "start_time": "2023-11-23T03:35:10.910915Z"
    },
    "jupyter": {
     "outputs_hidden": false
    },
    "tags": [
     "remove-cell"
    ]
   },
   "source": [
    "```{glue:figure} data_head\n",
    "---\n",
    "width: 400px\n",
    "name: \"data_head\"\n",
    "---\n",
    "Present the head of the processed data.\n",
    "```"
   ]
  },
  {
   "cell_type": "code",
   "execution_count": null,
   "id": "db701ec88acd5bb4",
   "metadata": {
    "ExecuteTime": {
     "end_time": "2023-11-23T03:35:10.918977Z",
     "start_time": "2023-11-23T03:35:10.916262Z"
    },
    "collapsed": false,
    "jupyter": {
     "outputs_hidden": false
    },
    "tags": [
     "remove-cell"
    ]
   },
   "outputs": [],
   "source": [
    "# data_df.tail()"
   ]
  },
  {
   "cell_type": "markdown",
   "id": "18438180",
   "metadata": {},
   "source": [
    "### EDA\n",
    "#### Time series plot of all variables"
   ]
  },
  {
   "cell_type": "code",
   "execution_count": null,
   "id": "b8b039be5078d502",
   "metadata": {
    "ExecuteTime": {
     "end_time": "2023-11-23T03:35:11.007064Z",
     "start_time": "2023-11-23T03:35:10.920365Z"
    },
    "collapsed": false,
    "jupyter": {
     "outputs_hidden": false
    },
    "tags": [
     "remove-cell"
    ]
   },
   "outputs": [],
   "source": [
    "# (alt\n",
    "#  .Chart(data_df)\n",
    "#  .mark_line()\n",
    "#  .encode(x=alt.X('date', type='temporal'),\n",
    "#          y=alt.Y(alt.repeat('row'), type='quantitative'))\n",
    "#  .properties(width=500, height=200)\n",
    "#  .repeat(row=['gspc', 'inflation_rate_pct', 'interest_rate_pct', 'inflation_rate_pct_chg',\n",
    "#               'interest_rate_pct_chg', 'gspc_prev_year_pct_chg', 'gspc_next_year_pct_chg',\n",
    "#               'target']))"
   ]
  },
  {
   "cell_type": "markdown",
   "id": "aabe4d09-e433-4271-91c4-951877b6f03c",
   "metadata": {},
   "source": [
    "```{figure} ../results/figures/time.png\n",
    "---\n",
    "width: 600px\n",
    "name: time series\n",
    "---\n",
    "Time series plot of all variables\n",
    "```"
   ]
  },
  {
   "cell_type": "code",
   "execution_count": null,
   "id": "1057e813",
   "metadata": {
    "ExecuteTime": {
     "end_time": "2023-11-23T03:35:11.007310Z",
     "start_time": "2023-11-23T03:35:10.974310Z"
    },
    "tags": [
     "remove-cell"
    ]
   },
   "outputs": [],
   "source": [
    "# df = data_df"
   ]
  },
  {
   "cell_type": "code",
   "execution_count": null,
   "id": "dca27f17",
   "metadata": {
    "ExecuteTime": {
     "end_time": "2023-11-23T03:35:11.007754Z",
     "start_time": "2023-11-23T03:35:10.976479Z"
    },
    "tags": [
     "remove-cell"
    ]
   },
   "outputs": [],
   "source": [
    "# Column data types \n",
    "# df.info()"
   ]
  },
  {
   "cell_type": "markdown",
   "id": "117fba4b",
   "metadata": {},
   "source": [
    "- No NA or missing data in df\n",
    "- One row record the observation for one month.\n",
    "- The time series data is from 1955-07 to 2022-10, which contains 808 observations.\n",
    "- The target is True when the stock price went up, and is False when the stock price went down.\n",
    "- We will use four columns 'inflation_rate_pct', 'interest_rate_pct',\n",
    "       'inflation_rate_pct_chg', 'interest_rate_pct_chg',\n",
    "       'gspc_prev_year_pct_chg' as features, and the target as response in this binary classification problem. "
   ]
  },
  {
   "cell_type": "markdown",
   "id": "fd03c5f3",
   "metadata": {},
   "source": [
    "## Split data and EDA"
   ]
  },
  {
   "cell_type": "code",
   "execution_count": null,
   "id": "63a68127",
   "metadata": {
    "ExecuteTime": {
     "end_time": "2023-11-23T03:35:11.008315Z",
     "start_time": "2023-11-23T03:35:10.980153Z"
    },
    "tags": [
     "remove-cell"
    ]
   },
   "outputs": [],
   "source": [
    "# split data into training and test\n",
    "# train_df, test_df = train_test_split(df, test_size=0.2, random_state=123)\n",
    "# train_df"
   ]
  },
  {
   "cell_type": "code",
   "execution_count": null,
   "id": "51d6b237",
   "metadata": {
    "ExecuteTime": {
     "end_time": "2023-11-23T03:35:11.008839Z",
     "start_time": "2023-11-23T03:35:10.986841Z"
    },
    "tags": [
     "remove-cell"
    ]
   },
   "outputs": [],
   "source": [
    "# statistical summary for dataframe\n",
    "# train_df.describe()"
   ]
  },
  {
   "cell_type": "code",
   "execution_count": null,
   "id": "136c6688",
   "metadata": {
    "ExecuteTime": {
     "end_time": "2023-11-23T03:35:11.008989Z",
     "start_time": "2023-11-23T03:35:10.995010Z"
    },
    "tags": [
     "remove-cell"
    ]
   },
   "outputs": [],
   "source": [
    "# train_df.columns"
   ]
  },
  {
   "cell_type": "code",
   "execution_count": null,
   "id": "55d32b2e",
   "metadata": {
    "tags": [
     "remove-cell"
    ]
   },
   "outputs": [],
   "source": [
    "# features = ['inflation_rate_pct', 'interest_rate_pct',\n",
    "#        'inflation_rate_pct_chg', 'interest_rate_pct_chg',\n",
    "#        'gspc_prev_year_pct_chg']"
   ]
  },
  {
   "cell_type": "code",
   "execution_count": null,
   "id": "ba430386",
   "metadata": {
    "tags": [
     "remove-cell"
    ]
   },
   "outputs": [],
   "source": [
    "# import eda\n",
    "# plot_1=eda.plot_histograms(train_df, \"target\", features)"
   ]
  },
  {
   "cell_type": "markdown",
   "id": "60126d4f-9eb9-4cb7-8637-51cb3046ddbe",
   "metadata": {},
   "source": [
    "```{figure} ../results/figures/hist.png\n",
    "---\n",
    "width: 600px\n",
    "name: histogram\n",
    "---\n",
    "Histograms of each variable"
   ]
  },
  {
   "cell_type": "code",
   "execution_count": 3,
   "id": "5327b22e",
   "metadata": {
    "ExecuteTime": {
     "end_time": "2023-11-23T03:35:11.569916Z",
     "start_time": "2023-11-23T03:35:11.560003Z"
    },
    "tags": [
     "remove-cell"
    ]
   },
   "outputs": [
    {
     "ename": "NameError",
     "evalue": "name 'train_df' is not defined",
     "output_type": "error",
     "traceback": [
      "\u001b[0;31m---------------------------------------------------------------------------\u001b[0m",
      "\u001b[0;31mNameError\u001b[0m                                 Traceback (most recent call last)",
      "Cell \u001b[0;32mIn[3], line 2\u001b[0m\n\u001b[1;32m      1\u001b[0m \u001b[38;5;66;03m# finding potential correlation between numeric columns\u001b[39;00m\n\u001b[0;32m----> 2\u001b[0m num_col \u001b[38;5;241m=\u001b[39m \u001b[43mtrain_df\u001b[49m\u001b[38;5;241m.\u001b[39mselect_dtypes(include\u001b[38;5;241m=\u001b[39m[\u001b[38;5;124m'\u001b[39m\u001b[38;5;124mfloat64\u001b[39m\u001b[38;5;124m'\u001b[39m])\u001b[38;5;241m.\u001b[39mcolumns\u001b[38;5;241m.\u001b[39mtolist()\n\u001b[1;32m      4\u001b[0m train_df[num_col]\u001b[38;5;241m.\u001b[39mcorr(\u001b[38;5;124m'\u001b[39m\u001b[38;5;124mspearman\u001b[39m\u001b[38;5;124m'\u001b[39m)\u001b[38;5;241m.\u001b[39mstyle\u001b[38;5;241m.\u001b[39mbackground_gradient()\n",
      "\u001b[0;31mNameError\u001b[0m: name 'train_df' is not defined"
     ]
    }
   ],
   "source": [
    "# finding potential correlation between numeric columns\n",
    "# num_col = train_df.select_dtypes(include=['float64']).columns.tolist()\n",
    "\n",
    "# train_df[num_col].corr('spearman').style.background_gradient()"
   ]
  },
  {
   "cell_type": "markdown",
   "id": "76c6b7d7",
   "metadata": {},
   "source": [
    "- Spearmean's rank correlation test revealed some potential correlation between columns: \n",
    "\n",
    "**interest_rate_pct vs inflation_rate_pct** \n",
    "\n",
    "**interest_rate_pct_chg vs inflation_rate_pct_chg**\n",
    "\n",
    "**inflation_rate_pct_chg vs inflation_rate_pct**\n",
    "\n",
    "**interest_rate_pct_chg vs interest_rate_pct**"
   ]
  },
  {
   "cell_type": "code",
   "execution_count": null,
   "id": "c7ca72e7",
   "metadata": {
    "tags": [
     "remove-cell"
    ]
   },
   "outputs": [],
   "source": [
    "# eda.scatter_plot(train_df, 'interest_rate_pct', 'inflation_rate_pct', color='blue')\n",
    "# eda.scatter_plot(train_df, 'interest_rate_pct_chg', 'inflation_rate_pct_chg', color='green')\n",
    "# eda.scatter_plot(train_df, 'inflation_rate_pct_chg', 'inflation_rate_pct', color='red')\n",
    "# eda.scatter_plot(train_df, 'interest_rate_pct_chg', 'interest_rate_pct', color='blue')"
   ]
  },
  {
   "cell_type": "markdown",
   "id": "d0fd920e-579c-4aab-af8d-d005e8c6ae94",
   "metadata": {},
   "source": [
    "```{figure} ../results/figures/scat.png\n",
    "---\n",
    "width: 600px\n",
    "name: scatter plot\n",
    "---\n",
    "Scatter plots of a few pairs of variables"
   ]
  },
  {
   "cell_type": "markdown",
   "id": "396819ce",
   "metadata": {},
   "source": [
    "- Examine the data type for every column.\n",
    "- Illustrate the distribution of all numeric columns and investigate possible correlations between them.\n",
    "- Divide the dataframe into training and testing datasets with an 80:20 ratio.\n",
    "- Based on the histograms of all columns, the five numerical columns 'inflation_rate_pct', 'interest_rate_pct', 'inflation_rate_pct_chg', 'interest_rate_pct_chg', and 'gspc_prev_year_pct_chg' are helpful in separating the target."
   ]
  },
  {
   "cell_type": "markdown",
   "id": "c7ab7227",
   "metadata": {},
   "source": [
    "### Model"
   ]
  },
  {
   "cell_type": "code",
   "execution_count": null,
   "id": "2bb39a5c",
   "metadata": {
    "ExecuteTime": {
     "end_time": "2023-11-23T03:35:11.848708Z",
     "start_time": "2023-11-23T03:35:11.846068Z"
    },
    "tags": [
     "remove-cell"
    ]
   },
   "outputs": [],
   "source": [
    "#Separate target value form train and test set \n",
    "\n",
    "# X_train, y_train, X_test, y_test = train_test_split_class(df, \"target\", 0.2, random_state = 123)"
   ]
  },
  {
   "cell_type": "markdown",
   "id": "3dfae1b9",
   "metadata": {},
   "source": [
    "### Data\n",
    "The dataset comprises records for 808 months, with each row featuring a crucial predictor for the corresponding month. Additionally, it indicates whether there was an increase or decrease in the S&P 500 index, denoted by the values True or False.\n"
   ]
  },
  {
   "cell_type": "markdown",
   "id": "c2818f2d",
   "metadata": {},
   "source": [
    "### Preprocessing Data\n",
    "\n",
    "#### Numeric features:\n",
    "- 'inflation_rate_pct'\n",
    "- 'interest_rate_pct'\n",
    "- 'inflation_rate_pct_chg'\n",
    "- 'interest_rate_pct_chg'\n",
    "- 'gspc_prev_year_pct_chg'\n",
    "\n",
    "Since there is no missing values, imputation is not necessary. And we apply a StandardScaler."
   ]
  },
  {
   "cell_type": "code",
   "execution_count": null,
   "id": "1f02fc6f",
   "metadata": {
    "ExecuteTime": {
     "end_time": "2023-11-23T03:35:11.854057Z",
     "start_time": "2023-11-23T03:35:11.848258Z"
    },
    "tags": [
     "remove-cell"
    ]
   },
   "outputs": [],
   "source": [
    "# numerical_features = ['inflation_rate_pct', 'interest_rate_pct',\n",
    "#        'inflation_rate_pct_chg', 'interest_rate_pct_chg',\n",
    "#        'gspc_prev_year_pct_chg']\n",
    "\n",
    "# #Create Column Transformer \n",
    "# preprocessor = make_column_transformer(    \n",
    "#     (StandardScaler(), numerical_features),  \n",
    "# )"
   ]
  },
  {
   "cell_type": "markdown",
   "id": "3b71d14c",
   "metadata": {},
   "source": [
    "### Model Selection\n",
    "#### Logistic Regression\n",
    "Our focus is on identifying whether there is an increase in the S&P 500 index, making it a classification problem. To tackle this, we utilize Logistic Regression."
   ]
  },
  {
   "cell_type": "code",
   "execution_count": null,
   "id": "7248cabd",
   "metadata": {
    "ExecuteTime": {
     "end_time": "2023-11-23T03:35:11.854239Z",
     "start_time": "2023-11-23T03:35:11.850077Z"
    },
    "tags": [
     "remove-cell"
    ]
   },
   "outputs": [],
   "source": [
    "# pipe = make_pipeline(preprocessor, LogisticRegression())"
   ]
  },
  {
   "cell_type": "code",
   "execution_count": null,
   "id": "c80dd90b",
   "metadata": {
    "ExecuteTime": {
     "end_time": "2023-11-23T03:35:11.863369Z",
     "start_time": "2023-11-23T03:35:11.853084Z"
    },
    "tags": [
     "remove-cell"
    ]
   },
   "outputs": [],
   "source": [
    "# pipe.fit(X_train, y_train)"
   ]
  },
  {
   "cell_type": "code",
   "execution_count": null,
   "id": "fb262fe8",
   "metadata": {
    "ExecuteTime": {
     "end_time": "2023-11-23T03:35:11.867393Z",
     "start_time": "2023-11-23T03:35:11.862673Z"
    },
    "tags": [
     "remove-cell"
    ]
   },
   "outputs": [],
   "source": [
    "# pipe.score(X_test, y_test)"
   ]
  },
  {
   "cell_type": "markdown",
   "id": "270a0b04",
   "metadata": {},
   "source": [
    "The test data of logistic regression yields an accuracy of {glue:text}`regression_mean_test_score`%. Accuracy is a metric calculated as the ratio of correct predictions to all predictions. Nevertheless, caution is necessary when interpreting this metric, particularly in the context of class imbalance."
   ]
  },
  {
   "cell_type": "markdown",
   "id": "fd4dda23",
   "metadata": {},
   "source": [
    "##### Dummy Regression"
   ]
  },
  {
   "cell_type": "code",
   "execution_count": null,
   "id": "4dd00743",
   "metadata": {
    "ExecuteTime": {
     "end_time": "2023-11-23T03:35:11.933082Z",
     "start_time": "2023-11-23T03:35:11.865988Z"
    },
    "tags": [
     "remove-cell"
    ]
   },
   "outputs": [],
   "source": [
    "# from sklearn.dummy import DummyClassifier\n",
    "\n",
    "# dc = DummyClassifier()\n",
    "# dc.fit(X_train, y_train)"
   ]
  },
  {
   "cell_type": "code",
   "execution_count": null,
   "id": "a81846db",
   "metadata": {
    "ExecuteTime": {
     "end_time": "2023-11-23T03:35:11.933460Z",
     "start_time": "2023-11-23T03:35:11.869031Z"
    },
    "tags": [
     "remove-cell"
    ]
   },
   "outputs": [],
   "source": [
    "# dc.score(X_test, y_test)"
   ]
  },
  {
   "cell_type": "markdown",
   "id": "5fedec99-4f29-4d1a-bdf1-ac9e0da857fe",
   "metadata": {},
   "source": [
    "```{glue:figure} result_df\n",
    "---\n",
    "width: 400px\n",
    "name: \"result_df\"\n",
    "---\n",
    "Present results of all models."
   ]
  },
  {
   "cell_type": "markdown",
   "id": "0dec3911",
   "metadata": {},
   "source": [
    "### Discussion\n",
    "The model training is designed such that it follows the Golden Rule. The test data of dummy regression yields an accuracy of {glue:text}`dummy_mean_test_score`%. The accuracy of dummy regression is better then the accuracy of logistic regression. In the preceding examination, we utilize `Logistic Regression` and `Dummy Regression`. Consequently, the result does not show advantage of `Logistic Regression` over `Dummy Regression`. Further data preprocessing is needed to enhance the overall effectiveness of the model. This is aligned with expectation, because we do not have enough meaningful features to extract information that is helpful for a more accurate categorization. Also, we have imbalanced classes, which can also prevent the model from determining whether the index will grow. \n",
    "\n",
    "The model's performance may be sensitive to hyperparameter settings, therefore it can be helpful to improve the model performance to experiment with different configurations through hyperparameter tuning. In the future, to improve the performance of the model, we may want to consult with specialists of finance field to get more key information about the topic. This will allow more features to be added to the data and positively impact the model training. \n",
    "\n",
    "\n",
    "\n",
    "### Reference"
   ]
  },
  {
   "cell_type": "markdown",
   "id": "025420cb-e570-42a8-9e57-6ba692e5f61b",
   "metadata": {
    "tags": [
     "remove-cell"
    ]
   },
   "source": [
    "```{bibliography}\n",
    "```"
   ]
  },
  {
   "cell_type": "code",
   "execution_count": null,
   "id": "493b5d90-6cdf-432b-b27c-4285ef2cc16b",
   "metadata": {},
   "outputs": [],
   "source": [
    "#pip install docutils==0.17.1"
   ]
  },
  {
   "cell_type": "code",
   "execution_count": null,
   "id": "ec8288f4-16d1-4bff-b4eb-076bc189651e",
   "metadata": {},
   "outputs": [],
   "source": []
  }
 ],
 "metadata": {
  "kernelspec": {
   "display_name": "Python (522_formal)",
   "language": "python",
   "name": "522group3"
  },
  "language_info": {
   "codemirror_mode": {
    "name": "ipython",
    "version": 3
   },
   "file_extension": ".py",
   "mimetype": "text/x-python",
   "name": "python",
   "nbconvert_exporter": "python",
   "pygments_lexer": "ipython3",
   "version": "3.11.6"
  }
 },
 "nbformat": 4,
 "nbformat_minor": 5
}
